{
 "cells": [
  {
   "cell_type": "code",
   "execution_count": 1,
   "metadata": {},
   "outputs": [],
   "source": [
    "import pandas as pd\n",
    "import numpy as np\n",
    "import seaborn as sns\n",
    "from sklearn.preprocessing import StandardScaler\n",
    "from sklearn.cluster import KMeans\n",
    "from sklearn.decomposition import PCA\n",
    "import matplotlib.pyplot as plt\n",
    "from sklearn.model_selection import train_test_split\n",
    "import sys\n",
    "import scipy.sparse as sparse\n",
    "from scipy.sparse.linalg import spsolve\n",
    "import random\n",
    "from sklearn.preprocessing import MinMaxScaler\n",
    "import implicit # The Cython library\n",
    "import os\n",
    "import pickle\n",
    "import shelve"
   ]
  },
  {
   "cell_type": "code",
   "execution_count": 2,
   "metadata": {},
   "outputs": [],
   "source": [
    "with open('./user_items.pkl', 'rb') as user_items:\n",
    "        user_items = pickle.load(user_items)"
   ]
  },
  {
   "cell_type": "code",
   "execution_count": 3,
   "metadata": {},
   "outputs": [],
   "source": [
    "with open('df_full.pkl', 'rb') as df_principal:\n",
    "    df_full = pickle.load(df_principal)"
   ]
  },
  {
   "cell_type": "code",
   "execution_count": 4,
   "metadata": {},
   "outputs": [],
   "source": [
    "knn = implicit.nearest_neighbours.ItemItemRecommender(40)"
   ]
  },
  {
   "cell_type": "code",
   "execution_count": 15,
   "metadata": {},
   "outputs": [
    {
     "data": {
      "text/html": [
       "<div>\n",
       "<style scoped>\n",
       "    .dataframe tbody tr th:only-of-type {\n",
       "        vertical-align: middle;\n",
       "    }\n",
       "\n",
       "    .dataframe tbody tr th {\n",
       "        vertical-align: top;\n",
       "    }\n",
       "\n",
       "    .dataframe thead th {\n",
       "        text-align: right;\n",
       "    }\n",
       "</style>\n",
       "<table border=\"1\" class=\"dataframe\">\n",
       "  <thead>\n",
       "    <tr style=\"text-align: right;\">\n",
       "      <th></th>\n",
       "    </tr>\n",
       "  </thead>\n",
       "  <tbody>\n",
       "    <tr>\n",
       "      <th>0</th>\n",
       "    </tr>\n",
       "    <tr>\n",
       "      <th>1</th>\n",
       "    </tr>\n",
       "    <tr>\n",
       "      <th>2</th>\n",
       "    </tr>\n",
       "    <tr>\n",
       "      <th>3</th>\n",
       "    </tr>\n",
       "    <tr>\n",
       "      <th>4</th>\n",
       "    </tr>\n",
       "  </tbody>\n",
       "</table>\n",
       "</div>"
      ],
      "text/plain": [
       "Empty DataFrame\n",
       "Columns: []\n",
       "Index: [0, 1, 2, 3, 4]"
      ]
     },
     "execution_count": 15,
     "metadata": {},
     "output_type": "execute_result"
    }
   ],
   "source": [
    "#df_full_tf = df_full.loc[:,[\"Product_Name\"]].drop_duplicates()\n",
    "#df_full_tf.dropna(inplace=True)\n",
    "#df_full_tf[\"Product_Name_F\"] = df_full[\"Product_Name\"]+\"_\"+df_full[\"Familia\"]\n",
    "#df_full_tf.drop(columns=[\"Product_Name\",\"Familia\"],inplace=True)\n",
    "#df_full_tf.head()"
   ]
  },
  {
   "cell_type": "code",
   "execution_count": 49,
   "metadata": {},
   "outputs": [
    {
     "data": {
      "text/plain": [
       "'Duraznos En Almibar En Mitades La Banda 850 Grs.'"
      ]
     },
     "execution_count": 49,
     "metadata": {},
     "output_type": "execute_result"
    }
   ],
   "source": [
    "df_full_tf = pd.Series(df_full.Product_Name)\n",
    "df_full_tf.iloc[0]"
   ]
  },
  {
   "cell_type": "code",
   "execution_count": 28,
   "metadata": {},
   "outputs": [],
   "source": [
    "#df_full_tf.reset_index(inplace=True)"
   ]
  },
  {
   "cell_type": "code",
   "execution_count": 50,
   "metadata": {},
   "outputs": [],
   "source": [
    "df_full_tf.drop(columns=\"index\", inplace=True)"
   ]
  },
  {
   "cell_type": "code",
   "execution_count": 52,
   "metadata": {},
   "outputs": [],
   "source": [
    "df_full_tf = df_full_tf.drop_duplicates()"
   ]
  },
  {
   "cell_type": "code",
   "execution_count": null,
   "metadata": {},
   "outputs": [],
   "source": [
    "#df_full.loc[df_full.index.isin([int(x[0]) for x in knn.similar_items(622)])]"
   ]
  },
  {
   "cell_type": "code",
   "execution_count": null,
   "metadata": {},
   "outputs": [],
   "source": [
    "#sparse_item_user = sparse.csr_matrix(((df_full['SKU_ID_CODE'], df_full['SKU_ID_CODE'])))"
   ]
  },
  {
   "cell_type": "code",
   "execution_count": 53,
   "metadata": {},
   "outputs": [
    {
     "data": {
      "text/html": [
       "<div>\n",
       "<style scoped>\n",
       "    .dataframe tbody tr th:only-of-type {\n",
       "        vertical-align: middle;\n",
       "    }\n",
       "\n",
       "    .dataframe tbody tr th {\n",
       "        vertical-align: top;\n",
       "    }\n",
       "\n",
       "    .dataframe thead th {\n",
       "        text-align: right;\n",
       "    }\n",
       "</style>\n",
       "<table border=\"1\" class=\"dataframe\">\n",
       "  <thead>\n",
       "    <tr style=\"text-align: right;\">\n",
       "      <th></th>\n",
       "      <th>Product_Name</th>\n",
       "    </tr>\n",
       "  </thead>\n",
       "  <tbody>\n",
       "    <tr>\n",
       "      <th>245</th>\n",
       "      <td>Acondicionador Plusbelle Detox Purificante Té ...</td>\n",
       "    </tr>\n",
       "    <tr>\n",
       "      <th>36778</th>\n",
       "      <td>Vino tinto blend reserva Ruca Malen 750 cc.</td>\n",
       "    </tr>\n",
       "    <tr>\n",
       "      <th>16768</th>\n",
       "      <td>Pañales Confort Sec Regular Pampers M 8 Un</td>\n",
       "    </tr>\n",
       "    <tr>\n",
       "      <th>497708</th>\n",
       "      <td>Postre Serenito Chocolate 100 gr</td>\n",
       "    </tr>\n",
       "    <tr>\n",
       "      <th>6493</th>\n",
       "      <td>Salchicha Vienissima Clasica 12Un 450 Grs.</td>\n",
       "    </tr>\n",
       "    <tr>\n",
       "      <th>507555</th>\n",
       "      <td>Agua Saborizada Aquarius Pera 600 Ml</td>\n",
       "    </tr>\n",
       "    <tr>\n",
       "      <th>500</th>\n",
       "      <td>Papel Higiénico Hoja Simple Elegante Aloe Vera...</td>\n",
       "    </tr>\n",
       "    <tr>\n",
       "      <th>259309</th>\n",
       "      <td>2x1 Baton extra leche 16 g</td>\n",
       "    </tr>\n",
       "    <tr>\n",
       "      <th>375102</th>\n",
       "      <td>Bananita Nestle DOLCA 14G X 15 Un</td>\n",
       "    </tr>\n",
       "    <tr>\n",
       "      <th>101745</th>\n",
       "      <td>Quitaesmalte Cutex Fortaceledor Calcio Y Vitam...</td>\n",
       "    </tr>\n",
       "  </tbody>\n",
       "</table>\n",
       "</div>"
      ],
      "text/plain": [
       "                                             Product_Name\n",
       "245     Acondicionador Plusbelle Detox Purificante Té ...\n",
       "36778         Vino tinto blend reserva Ruca Malen 750 cc.\n",
       "16768          Pañales Confort Sec Regular Pampers M 8 Un\n",
       "497708                   Postre Serenito Chocolate 100 gr\n",
       "6493           Salchicha Vienissima Clasica 12Un 450 Grs.\n",
       "507555               Agua Saborizada Aquarius Pera 600 Ml\n",
       "500     Papel Higiénico Hoja Simple Elegante Aloe Vera...\n",
       "259309                         2x1 Baton extra leche 16 g\n",
       "375102                  Bananita Nestle DOLCA 14G X 15 Un\n",
       "101745  Quitaesmalte Cutex Fortaceledor Calcio Y Vitam..."
      ]
     },
     "execution_count": 53,
     "metadata": {},
     "output_type": "execute_result"
    }
   ],
   "source": [
    "pd.DataFrame(df_full_tf).sample(10)"
   ]
  },
  {
   "cell_type": "code",
   "execution_count": 54,
   "metadata": {},
   "outputs": [
    {
     "data": {
      "text/plain": [
       "2610"
      ]
     },
     "execution_count": 54,
     "metadata": {},
     "output_type": "execute_result"
    }
   ],
   "source": [
    "len(df_full_tf)"
   ]
  },
  {
   "cell_type": "code",
   "execution_count": 63,
   "metadata": {},
   "outputs": [],
   "source": [
    "#df_full_tf = pd.Series(df_full_tf.Product_Name_F)"
   ]
  },
  {
   "cell_type": "code",
   "execution_count": 55,
   "metadata": {},
   "outputs": [],
   "source": [
    "from sklearn.feature_extraction.text import TfidfVectorizer\n",
    "vectorizer=TfidfVectorizer();\n",
    "df_full_tf_sparse=vectorizer.fit_transform(df_full_tf);"
   ]
  },
  {
   "cell_type": "code",
   "execution_count": 56,
   "metadata": {},
   "outputs": [
    {
     "data": {
      "text/plain": [
       "0          Duraznos En Almibar En Mitades La Banda 850 Grs.\n",
       "1                       Galletitas Frutigran Salvado 500 G.\n",
       "2                   Galletitas Granix Granovita Limon 140 G\n",
       "3           Hebras Cuatro Quesos Light Finlandia Chef 150gr\n",
       "4                                Huevo color Avicoper 12 un\n",
       "                                 ...                       \n",
       "1027961           Protector Diario Kotex Ultra Flexible X50\n",
       "1028230                 Panettone Bauducco Mini Choco 100Gr\n",
       "1031136                           Galletitas Tita 5 X 18 G.\n",
       "1040069                     Pandoro c/frutas Bauducco 500gr\n",
       "1049077                    Silk Almendra Chocolate  190 cm3\n",
       "Name: Product_Name, Length: 2610, dtype: object"
      ]
     },
     "execution_count": 56,
     "metadata": {},
     "output_type": "execute_result"
    }
   ],
   "source": [
    "df_full_tf"
   ]
  },
  {
   "cell_type": "code",
   "execution_count": 57,
   "metadata": {},
   "outputs": [
    {
     "data": {
      "text/plain": [
       "duraznos       984\n",
       "en            1008\n",
       "almibar        397\n",
       "mitades       1589\n",
       "la            1379\n",
       "banda          509\n",
       "850            314\n",
       "grs           1220\n",
       "galletitas    1156\n",
       "frutigran     1141\n",
       "dtype: int64"
      ]
     },
     "execution_count": 57,
     "metadata": {},
     "output_type": "execute_result"
    }
   ],
   "source": [
    "pd.Series(vectorizer.vocabulary_)[:10]"
   ]
  },
  {
   "cell_type": "code",
   "execution_count": 58,
   "metadata": {},
   "outputs": [],
   "source": [
    "from scipy.spatial.distance import pdist, squareform"
   ]
  },
  {
   "cell_type": "code",
   "execution_count": 59,
   "metadata": {},
   "outputs": [],
   "source": [
    "dense_df_full_tf_sparse = df_full_tf_sparse.todense()"
   ]
  },
  {
   "cell_type": "code",
   "execution_count": 60,
   "metadata": {},
   "outputs": [],
   "source": [
    "tfidf_sparse = dense_df_full_tf_sparse.transpose()"
   ]
  },
  {
   "cell_type": "code",
   "execution_count": 63,
   "metadata": {},
   "outputs": [],
   "source": [
    "from sklearn.decomposition import TruncatedSVD\n",
    "\n",
    "svd = TruncatedSVD(1000)"
   ]
  },
  {
   "cell_type": "code",
   "execution_count": 64,
   "metadata": {},
   "outputs": [],
   "source": [
    "svd_trans = svd.fit_transform(df_full_tf_sparse)"
   ]
  },
  {
   "cell_type": "code",
   "execution_count": 65,
   "metadata": {},
   "outputs": [
    {
     "data": {
      "text/plain": [
       "(2610, 1000)"
      ]
     },
     "execution_count": 65,
     "metadata": {},
     "output_type": "execute_result"
    }
   ],
   "source": [
    "svd_trans.shape"
   ]
  },
  {
   "cell_type": "code",
   "execution_count": 66,
   "metadata": {},
   "outputs": [],
   "source": [
    "svd_trans_transp = svd_trans.transpose()"
   ]
  },
  {
   "cell_type": "code",
   "execution_count": 67,
   "metadata": {},
   "outputs": [],
   "source": [
    "sqform = squareform(pdist(svd_trans_transp, metric=\"cosine\"))"
   ]
  },
  {
   "cell_type": "code",
   "execution_count": 68,
   "metadata": {},
   "outputs": [
    {
     "data": {
      "text/plain": [
       "array([[0., 1., 1., ..., 1., 1., 1.],\n",
       "       [1., 0., 1., ..., 1., 1., 1.],\n",
       "       [1., 1., 0., ..., 1., 1., 1.],\n",
       "       ...,\n",
       "       [1., 1., 1., ..., 0., 1., 1.],\n",
       "       [1., 1., 1., ..., 1., 0., 1.],\n",
       "       [1., 1., 1., ..., 1., 1., 0.]])"
      ]
     },
     "execution_count": 68,
     "metadata": {},
     "output_type": "execute_result"
    }
   ],
   "source": [
    "sqform"
   ]
  },
  {
   "cell_type": "code",
   "execution_count": 69,
   "metadata": {},
   "outputs": [],
   "source": [
    "knn2 = implicit.nearest_neighbours.ItemItemRecommender(40)"
   ]
  },
  {
   "cell_type": "code",
   "execution_count": 70,
   "metadata": {},
   "outputs": [
    {
     "data": {
      "text/plain": [
       "array([[ 0.11360929, -0.0971702 ,  0.0290829 , ...,  0.00352221,\n",
       "         0.0076526 ,  0.0241237 ],\n",
       "       [ 0.07577009, -0.04196328,  0.03941032, ..., -0.00332334,\n",
       "         0.01413329, -0.00693726],\n",
       "       [ 0.04181076, -0.04641696, -0.00347129, ...,  0.0194537 ,\n",
       "        -0.01917865, -0.01060174],\n",
       "       ...,\n",
       "       [ 0.03302708, -0.03596601, -0.00023011, ...,  0.00204826,\n",
       "         0.00096562,  0.00179764],\n",
       "       [ 0.00488561, -0.00375971,  0.00019327, ...,  0.00283004,\n",
       "         0.05545964, -0.00725247],\n",
       "       [ 0.0771652 , -0.07393556, -0.03268533, ...,  0.00707295,\n",
       "         0.00151324, -0.00209809]])"
      ]
     },
     "execution_count": 70,
     "metadata": {},
     "output_type": "execute_result"
    }
   ],
   "source": [
    "svd_trans"
   ]
  },
  {
   "cell_type": "code",
   "execution_count": 80,
   "metadata": {},
   "outputs": [],
   "source": [
    "#knn2.fit(svd_trans)"
   ]
  },
  {
   "cell_type": "code",
   "execution_count": 72,
   "metadata": {},
   "outputs": [
    {
     "data": {
      "application/vnd.jupyter.widget-view+json": {
       "model_id": "f1c75c6507ae45e0919052bc6fe49e32",
       "version_major": 2,
       "version_minor": 0
      },
      "text/plain": [
       "HBox(children=(HTML(value=''), FloatProgress(value=0.0, max=2610.0), HTML(value='')))"
      ]
     },
     "metadata": {},
     "output_type": "display_data"
    },
    {
     "name": "stdout",
     "output_type": "stream",
     "text": [
      "\n"
     ]
    }
   ],
   "source": [
    "knn.fit(df_full_tf_sparse)"
   ]
  },
  {
   "cell_type": "code",
   "execution_count": 73,
   "metadata": {},
   "outputs": [
    {
     "data": {
      "text/plain": [
       "[(100, 1.0),\n",
       " (58, 0.8634060910337068),\n",
       " (727, 0.737690173970269),\n",
       " (2391, 0.7164894403534455),\n",
       " (52, 0.6340267202691946),\n",
       " (1232, 0.5866419512096139),\n",
       " (2362, 0.5821331765815105),\n",
       " (549, 0.5321071421919844),\n",
       " (51, 0.49311314653548877),\n",
       " (56, 0.4868430820656565)]"
      ]
     },
     "execution_count": 73,
     "metadata": {},
     "output_type": "execute_result"
    }
   ],
   "source": [
    "knn.similar_items(100)"
   ]
  },
  {
   "cell_type": "code",
   "execution_count": 74,
   "metadata": {},
   "outputs": [
    {
     "data": {
      "text/plain": [
       "'Yogur Bebible Descremado Tregar Vainilla 900 G.'"
      ]
     },
     "execution_count": 74,
     "metadata": {},
     "output_type": "execute_result"
    }
   ],
   "source": [
    "df_full_tf.iloc[100]"
   ]
  },
  {
   "cell_type": "code",
   "execution_count": 78,
   "metadata": {},
   "outputs": [
    {
     "data": {
      "text/plain": [
       "'Yogur Bebible Descremado Milkaut Vainilla 1 L.'"
      ]
     },
     "execution_count": 78,
     "metadata": {},
     "output_type": "execute_result"
    }
   ],
   "source": [
    "df_full_tf.iloc[727]"
   ]
  },
  {
   "cell_type": "code",
   "execution_count": 59,
   "metadata": {},
   "outputs": [
    {
     "data": {
      "text/plain": [
       "<1x1 sparse matrix of type '<class 'numpy.float64'>'\n",
       "\twith 1 stored elements in Compressed Sparse Row format>"
      ]
     },
     "execution_count": 59,
     "metadata": {},
     "output_type": "execute_result"
    }
   ],
   "source": [
    "df_full_tf_sparse"
   ]
  },
  {
   "cell_type": "code",
   "execution_count": 79,
   "metadata": {},
   "outputs": [
    {
     "data": {
      "text/html": [
       "<div>\n",
       "<style scoped>\n",
       "    .dataframe tbody tr th:only-of-type {\n",
       "        vertical-align: middle;\n",
       "    }\n",
       "\n",
       "    .dataframe tbody tr th {\n",
       "        vertical-align: top;\n",
       "    }\n",
       "\n",
       "    .dataframe thead th {\n",
       "        text-align: right;\n",
       "    }\n",
       "</style>\n",
       "<table border=\"1\" class=\"dataframe\">\n",
       "  <thead>\n",
       "    <tr style=\"text-align: right;\">\n",
       "      <th></th>\n",
       "      <th>SKU_ID</th>\n",
       "      <th>Order_ID</th>\n",
       "      <th>Ordered_Quantity</th>\n",
       "      <th>Product_Name</th>\n",
       "      <th>User ID</th>\n",
       "      <th>User_ID_CODE</th>\n",
       "      <th>SKU_ID_CODE</th>\n",
       "    </tr>\n",
       "  </thead>\n",
       "  <tbody>\n",
       "    <tr>\n",
       "      <th>51</th>\n",
       "      <td>16276841</td>\n",
       "      <td>227424658</td>\n",
       "      <td>1</td>\n",
       "      <td>Papas Noisettes McCain 500 gr</td>\n",
       "      <td>15263554</td>\n",
       "      <td>44473</td>\n",
       "      <td>647</td>\n",
       "    </tr>\n",
       "    <tr>\n",
       "      <th>52</th>\n",
       "      <td>18977911</td>\n",
       "      <td>227424658</td>\n",
       "      <td>2</td>\n",
       "      <td>Salsa Filetto La Campagnola 340 G</td>\n",
       "      <td>15263554</td>\n",
       "      <td>44473</td>\n",
       "      <td>1637</td>\n",
       "    </tr>\n",
       "    <tr>\n",
       "      <th>56</th>\n",
       "      <td>15791674</td>\n",
       "      <td>227424690</td>\n",
       "      <td>5</td>\n",
       "      <td>Gaseosa Coca Cola sin azúcares 1.75 cc.</td>\n",
       "      <td>3037126</td>\n",
       "      <td>16009</td>\n",
       "      <td>191</td>\n",
       "    </tr>\n",
       "    <tr>\n",
       "      <th>58</th>\n",
       "      <td>17805066</td>\n",
       "      <td>227424690</td>\n",
       "      <td>1</td>\n",
       "      <td>Yerba Mate Con Palo Monte Esp. O.C. La Merced ...</td>\n",
       "      <td>3037126</td>\n",
       "      <td>16009</td>\n",
       "      <td>1268</td>\n",
       "    </tr>\n",
       "    <tr>\n",
       "      <th>100</th>\n",
       "      <td>17315137</td>\n",
       "      <td>227425887</td>\n",
       "      <td>1</td>\n",
       "      <td>Galletitas Crackers Granix Sandwich 3 U. X 200 G.</td>\n",
       "      <td>2040397</td>\n",
       "      <td>10977</td>\n",
       "      <td>1129</td>\n",
       "    </tr>\n",
       "    <tr>\n",
       "      <th>549</th>\n",
       "      <td>15717668</td>\n",
       "      <td>227431826</td>\n",
       "      <td>1</td>\n",
       "      <td>Lavandina Héroe común 1 l.</td>\n",
       "      <td>4704097</td>\n",
       "      <td>24417</td>\n",
       "      <td>153</td>\n",
       "    </tr>\n",
       "    <tr>\n",
       "      <th>727</th>\n",
       "      <td>15500909</td>\n",
       "      <td>227434586</td>\n",
       "      <td>1</td>\n",
       "      <td>Agua Mineral Sin Gas Glaciar Bajo Sodio 2 L.</td>\n",
       "      <td>16183314</td>\n",
       "      <td>46438</td>\n",
       "      <td>0</td>\n",
       "    </tr>\n",
       "    <tr>\n",
       "      <th>1232</th>\n",
       "      <td>16979862</td>\n",
       "      <td>227448049</td>\n",
       "      <td>1</td>\n",
       "      <td>Pan Bimbo Artesano 500 G.</td>\n",
       "      <td>356033</td>\n",
       "      <td>1504</td>\n",
       "      <td>1033</td>\n",
       "    </tr>\n",
       "    <tr>\n",
       "      <th>2362</th>\n",
       "      <td>16730499</td>\n",
       "      <td>227496923</td>\n",
       "      <td>1</td>\n",
       "      <td>Manteca Milkaut 200 G.</td>\n",
       "      <td>4770754</td>\n",
       "      <td>24756</td>\n",
       "      <td>819</td>\n",
       "    </tr>\n",
       "    <tr>\n",
       "      <th>2391</th>\n",
       "      <td>15527684</td>\n",
       "      <td>227497875</td>\n",
       "      <td>1</td>\n",
       "      <td>Papas Fritas Lay'S Clásicas 250 G.</td>\n",
       "      <td>3036278</td>\n",
       "      <td>16004</td>\n",
       "      <td>79</td>\n",
       "    </tr>\n",
       "  </tbody>\n",
       "</table>\n",
       "</div>"
      ],
      "text/plain": [
       "        SKU_ID   Order_ID  Ordered_Quantity  \\\n",
       "51    16276841  227424658                 1   \n",
       "52    18977911  227424658                 2   \n",
       "56    15791674  227424690                 5   \n",
       "58    17805066  227424690                 1   \n",
       "100   17315137  227425887                 1   \n",
       "549   15717668  227431826                 1   \n",
       "727   15500909  227434586                 1   \n",
       "1232  16979862  227448049                 1   \n",
       "2362  16730499  227496923                 1   \n",
       "2391  15527684  227497875                 1   \n",
       "\n",
       "                                           Product_Name   User ID  \\\n",
       "51                        Papas Noisettes McCain 500 gr  15263554   \n",
       "52                    Salsa Filetto La Campagnola 340 G  15263554   \n",
       "56              Gaseosa Coca Cola sin azúcares 1.75 cc.   3037126   \n",
       "58    Yerba Mate Con Palo Monte Esp. O.C. La Merced ...   3037126   \n",
       "100   Galletitas Crackers Granix Sandwich 3 U. X 200 G.   2040397   \n",
       "549                          Lavandina Héroe común 1 l.   4704097   \n",
       "727        Agua Mineral Sin Gas Glaciar Bajo Sodio 2 L.  16183314   \n",
       "1232                          Pan Bimbo Artesano 500 G.    356033   \n",
       "2362                             Manteca Milkaut 200 G.   4770754   \n",
       "2391                 Papas Fritas Lay'S Clásicas 250 G.   3036278   \n",
       "\n",
       "      User_ID_CODE  SKU_ID_CODE  \n",
       "51           44473          647  \n",
       "52           44473         1637  \n",
       "56           16009          191  \n",
       "58           16009         1268  \n",
       "100          10977         1129  \n",
       "549          24417          153  \n",
       "727          46438            0  \n",
       "1232          1504         1033  \n",
       "2362         24756          819  \n",
       "2391         16004           79  "
      ]
     },
     "execution_count": 79,
     "metadata": {},
     "output_type": "execute_result"
    }
   ],
   "source": [
    "df_full.loc[df_full.index.isin([int(x[0]) for x in knn.similar_items(100)])]"
   ]
  },
  {
   "cell_type": "code",
   "execution_count": null,
   "metadata": {},
   "outputs": [],
   "source": []
  }
 ],
 "metadata": {
  "kernelspec": {
   "display_name": "Python 3",
   "language": "python",
   "name": "python3"
  },
  "language_info": {
   "codemirror_mode": {
    "name": "ipython",
    "version": 3
   },
   "file_extension": ".py",
   "mimetype": "text/x-python",
   "name": "python",
   "nbconvert_exporter": "python",
   "pygments_lexer": "ipython3",
   "version": "3.7.9"
  }
 },
 "nbformat": 4,
 "nbformat_minor": 4
}
