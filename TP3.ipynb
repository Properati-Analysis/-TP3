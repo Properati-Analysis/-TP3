{
 "cells": [
  {
   "cell_type": "code",
   "execution_count": 1,
   "metadata": {},
   "outputs": [],
   "source": [
    "# Se importan librerías a utillizar\n",
    "import pandas as pd\n",
    "import numpy as np\n",
    "import seaborn as sns\n",
    "from sklearn.preprocessing import StandardScaler\n",
    "from sklearn.cluster import KMeans\n",
    "from sklearn.decomposition import PCA\n",
    "import matplotlib.pyplot as plt\n",
    "from sklearn.model_selection import train_test_split\n",
    "import sys\n",
    "import scipy.sparse as sparse\n",
    "from scipy.sparse.linalg import spsolve\n",
    "import random\n",
    "from sklearn.preprocessing import MinMaxScaler\n",
    "import implicit # The Cython library\n",
    "import os\n",
    "import pickle\n",
    "import shelve\n",
    "from sklearn import metrics\n",
    "\n",
    "# conda install -c conda-forge implicit"
   ]
  },
  {
   "cell_type": "code",
   "execution_count": 2,
   "metadata": {},
   "outputs": [],
   "source": [
    "df_orders_9 = pd.read_csv(\"../../DataSets Grandes/PedidosYa/PedidosYa_Customer-Orders-9-2020.csv\",sep=\";\")\n",
    "df_orders_10 = pd.read_csv(\"../../DataSets Grandes/PedidosYa/PedidosYa_Customer-Orders-10-2020.csv\",sep=\";\")\n",
    "df_orders_11 = pd.read_csv(\"../../DataSets Grandes/PedidosYa/PedidosYa_Customer-Orders-11-2020.csv\",sep=\";\")\n",
    "df_customers = pd.read_csv(\"../../DataSets Grandes/PedidosYa/Sales_Orders order 2021-01-04T2033.csv\",sep=\",\")"
   ]
  },
  {
   "cell_type": "code",
   "execution_count": 3,
   "metadata": {},
   "outputs": [],
   "source": [
    "df_orders = pd.concat([df_orders_9,df_orders_10,df_orders_11])"
   ]
  },
  {
   "cell_type": "code",
   "execution_count": 4,
   "metadata": {},
   "outputs": [],
   "source": [
    "df_categories = pd.read_excel(\"../../DataSets Grandes/PedidosYa/Maestro_Productos_Categorías.xlsx\",header=0)"
   ]
  },
  {
   "cell_type": "markdown",
   "metadata": {},
   "source": [
    "# EDA"
   ]
  },
  {
   "cell_type": "code",
   "execution_count": 5,
   "metadata": {},
   "outputs": [
    {
     "data": {
      "text/html": [
       "<div>\n",
       "<style scoped>\n",
       "    .dataframe tbody tr th:only-of-type {\n",
       "        vertical-align: middle;\n",
       "    }\n",
       "\n",
       "    .dataframe tbody tr th {\n",
       "        vertical-align: top;\n",
       "    }\n",
       "\n",
       "    .dataframe thead th {\n",
       "        text-align: right;\n",
       "    }\n",
       "</style>\n",
       "<table border=\"1\" class=\"dataframe\">\n",
       "  <thead>\n",
       "    <tr style=\"text-align: right;\">\n",
       "      <th></th>\n",
       "      <th>Product_Name</th>\n",
       "      <th>Familia</th>\n",
       "    </tr>\n",
       "  </thead>\n",
       "  <tbody>\n",
       "    <tr>\n",
       "      <th>0</th>\n",
       "      <td>Duraznos En Almibar En Mitades La Banda 850 Grs.</td>\n",
       "      <td>Conservas</td>\n",
       "    </tr>\n",
       "    <tr>\n",
       "      <th>1</th>\n",
       "      <td>Galletitas Frutigran Salvado 500 G.</td>\n",
       "      <td>Galletas</td>\n",
       "    </tr>\n",
       "    <tr>\n",
       "      <th>2</th>\n",
       "      <td>Galletitas Granix Granovita Limon 140 G</td>\n",
       "      <td>Galletas</td>\n",
       "    </tr>\n",
       "  </tbody>\n",
       "</table>\n",
       "</div>"
      ],
      "text/plain": [
       "                                       Product_Name    Familia\n",
       "0  Duraznos En Almibar En Mitades La Banda 850 Grs.  Conservas\n",
       "1               Galletitas Frutigran Salvado 500 G.   Galletas\n",
       "2           Galletitas Granix Granovita Limon 140 G   Galletas"
      ]
     },
     "execution_count": 5,
     "metadata": {},
     "output_type": "execute_result"
    }
   ],
   "source": [
    "df_categories.head(3)"
   ]
  },
  {
   "cell_type": "code",
   "execution_count": 5,
   "metadata": {},
   "outputs": [
    {
     "name": "stdout",
     "output_type": "stream",
     "text": [
      "-Analizamos la cantidad de órdenes que tenemos por mes-\n",
      "50269 órdenes de septiembre\n",
      "65892 órdenes de octubre\n",
      "74956 órdenes de noviembre\n"
     ]
    }
   ],
   "source": [
    "print(\"-Analizamos la cantidad de órdenes que tenemos por mes-\")\n",
    "print(len(df_orders_9.Order_ID.unique()),\"órdenes de septiembre\")\n",
    "print(len(df_orders_10.Order_ID.unique()),\"órdenes de octubre\")\n",
    "print(len(df_orders_11.Order_ID.unique()),\"órdenes de noviembre\")"
   ]
  },
  {
   "cell_type": "code",
   "execution_count": 6,
   "metadata": {},
   "outputs": [],
   "source": [
    "#Mejoramos el nombrado de las columnas\n",
    "df_orders.columns = df_orders.columns.str.replace('\"', '')\n",
    "df_orders.rename({\"\\ufeffSKU_ID\":\"SKU_ID\"},axis=1, inplace = True)"
   ]
  },
  {
   "cell_type": "code",
   "execution_count": 7,
   "metadata": {},
   "outputs": [
    {
     "name": "stdout",
     "output_type": "stream",
     "text": [
      "Cantidad de productos distintos en las órdenes: 2508\n"
     ]
    }
   ],
   "source": [
    "print (\"Cantidad de productos distintos en las órdenes:\",len(df_orders.SKU_ID.unique()))"
   ]
  },
  {
   "cell_type": "code",
   "execution_count": 9,
   "metadata": {},
   "outputs": [
    {
     "data": {
      "text/plain": [
       "(1126422, 23)"
      ]
     },
     "execution_count": 9,
     "metadata": {},
     "output_type": "execute_result"
    }
   ],
   "source": [
    "df_orders.shape"
   ]
  },
  {
   "cell_type": "code",
   "execution_count": 12,
   "metadata": {},
   "outputs": [
    {
     "data": {
      "text/html": [
       "<div>\n",
       "<style scoped>\n",
       "    .dataframe tbody tr th:only-of-type {\n",
       "        vertical-align: middle;\n",
       "    }\n",
       "\n",
       "    .dataframe tbody tr th {\n",
       "        vertical-align: top;\n",
       "    }\n",
       "\n",
       "    .dataframe thead th {\n",
       "        text-align: right;\n",
       "    }\n",
       "</style>\n",
       "<table border=\"1\" class=\"dataframe\">\n",
       "  <thead>\n",
       "    <tr style=\"text-align: right;\">\n",
       "      <th></th>\n",
       "      <th>SKU_ID</th>\n",
       "      <th>Order_ID</th>\n",
       "      <th>Order_Date</th>\n",
       "      <th>Product_Name</th>\n",
       "      <th>Barcode_Array</th>\n",
       "      <th>Supplier_Names</th>\n",
       "      <th>Supplier_IDs</th>\n",
       "      <th>Listed_Unit_Price_New</th>\n",
       "      <th>Paid_Unit_Price_New</th>\n",
       "      <th>Unit_Discount</th>\n",
       "      <th>...</th>\n",
       "      <th>Ordered_Quantity</th>\n",
       "      <th>Fulfilled_Quantity</th>\n",
       "      <th>Returned_Quantity</th>\n",
       "      <th>Original_Item_Subtotal</th>\n",
       "      <th>Original_Item_COGS</th>\n",
       "      <th>Adjusted_Item_Subtotal</th>\n",
       "      <th>Adjusted_Item_COGS</th>\n",
       "      <th>Store_ID</th>\n",
       "      <th>Store_Name</th>\n",
       "      <th>Unit_Discount_new</th>\n",
       "    </tr>\n",
       "  </thead>\n",
       "  <tbody>\n",
       "    <tr>\n",
       "      <th>0</th>\n",
       "      <td>16903473</td>\n",
       "      <td>227421127</td>\n",
       "      <td>1/9/2020 00:03</td>\n",
       "      <td>Duraznos En Almibar En Mitades La Banda 850 Grs.</td>\n",
       "      <td>[\"7790499000485\", \"07790499000485\"]</td>\n",
       "      <td>Alimentos La Banda</td>\n",
       "      <td>4220</td>\n",
       "      <td>101,82</td>\n",
       "      <td>101,8181818</td>\n",
       "      <td>0.0</td>\n",
       "      <td>...</td>\n",
       "      <td>1</td>\n",
       "      <td>1</td>\n",
       "      <td>0.0</td>\n",
       "      <td>101,82</td>\n",
       "      <td>55,13</td>\n",
       "      <td>101,82</td>\n",
       "      <td>55,13</td>\n",
       "      <td>164044</td>\n",
       "      <td>AR_9_Microcentro</td>\n",
       "      <td>NaN</td>\n",
       "    </tr>\n",
       "    <tr>\n",
       "      <th>1</th>\n",
       "      <td>17315132</td>\n",
       "      <td>227421127</td>\n",
       "      <td>1/9/2020 00:03</td>\n",
       "      <td>Galletitas Frutigran Salvado 500 G.</td>\n",
       "      <td>[\"07790045001201\", \"7790045001201\"]</td>\n",
       "      <td>ALIMENTOS GRANIX</td>\n",
       "      <td>7318</td>\n",
       "      <td>101,82</td>\n",
       "      <td>101,8181818</td>\n",
       "      <td>0.0</td>\n",
       "      <td>...</td>\n",
       "      <td>1</td>\n",
       "      <td>1</td>\n",
       "      <td>0.0</td>\n",
       "      <td>101,82</td>\n",
       "      <td>61,93</td>\n",
       "      <td>101,82</td>\n",
       "      <td>61,93</td>\n",
       "      <td>164044</td>\n",
       "      <td>AR_9_Microcentro</td>\n",
       "      <td>NaN</td>\n",
       "    </tr>\n",
       "    <tr>\n",
       "      <th>2</th>\n",
       "      <td>17315107</td>\n",
       "      <td>227421127</td>\n",
       "      <td>1/9/2020 00:03</td>\n",
       "      <td>Galletitas Granix Granovita Limon 140 G</td>\n",
       "      <td>[\"7790045000846\", \"07790045000846\"]</td>\n",
       "      <td>ALIMENTOS GRANIX</td>\n",
       "      <td>7318</td>\n",
       "      <td>50,18</td>\n",
       "      <td>50,18181818</td>\n",
       "      <td>0.0</td>\n",
       "      <td>...</td>\n",
       "      <td>1</td>\n",
       "      <td>1</td>\n",
       "      <td>0.0</td>\n",
       "      <td>50,18</td>\n",
       "      <td>27,02</td>\n",
       "      <td>50,18</td>\n",
       "      <td>27,02</td>\n",
       "      <td>164044</td>\n",
       "      <td>AR_9_Microcentro</td>\n",
       "      <td>NaN</td>\n",
       "    </tr>\n",
       "  </tbody>\n",
       "</table>\n",
       "<p>3 rows × 23 columns</p>\n",
       "</div>"
      ],
      "text/plain": [
       "     SKU_ID   Order_ID      Order_Date  \\\n",
       "0  16903473  227421127  1/9/2020 00:03   \n",
       "1  17315132  227421127  1/9/2020 00:03   \n",
       "2  17315107  227421127  1/9/2020 00:03   \n",
       "\n",
       "                                       Product_Name  \\\n",
       "0  Duraznos En Almibar En Mitades La Banda 850 Grs.   \n",
       "1               Galletitas Frutigran Salvado 500 G.   \n",
       "2           Galletitas Granix Granovita Limon 140 G   \n",
       "\n",
       "                         Barcode_Array      Supplier_Names Supplier_IDs  \\\n",
       "0  [\"7790499000485\", \"07790499000485\"]  Alimentos La Banda         4220   \n",
       "1  [\"07790045001201\", \"7790045001201\"]    ALIMENTOS GRANIX         7318   \n",
       "2  [\"7790045000846\", \"07790045000846\"]    ALIMENTOS GRANIX         7318   \n",
       "\n",
       "  Listed_Unit_Price_New Paid_Unit_Price_New  Unit_Discount  ...  \\\n",
       "0                101,82         101,8181818            0.0  ...   \n",
       "1                101,82         101,8181818            0.0  ...   \n",
       "2                 50,18         50,18181818            0.0  ...   \n",
       "\n",
       "  Ordered_Quantity Fulfilled_Quantity Returned_Quantity  \\\n",
       "0                1                  1               0.0   \n",
       "1                1                  1               0.0   \n",
       "2                1                  1               0.0   \n",
       "\n",
       "   Original_Item_Subtotal  Original_Item_COGS  Adjusted_Item_Subtotal  \\\n",
       "0                  101,82               55,13                  101,82   \n",
       "1                  101,82               61,93                  101,82   \n",
       "2                   50,18               27,02                   50,18   \n",
       "\n",
       "  Adjusted_Item_COGS Store_ID        Store_Name Unit_Discount_new  \n",
       "0              55,13   164044  AR_9_Microcentro               NaN  \n",
       "1              61,93   164044  AR_9_Microcentro               NaN  \n",
       "2              27,02   164044  AR_9_Microcentro               NaN  \n",
       "\n",
       "[3 rows x 23 columns]"
      ]
     },
     "execution_count": 12,
     "metadata": {},
     "output_type": "execute_result"
    }
   ],
   "source": [
    "df_orders.head(3)"
   ]
  },
  {
   "cell_type": "code",
   "execution_count": 10,
   "metadata": {},
   "outputs": [],
   "source": [
    "# Nos quedamos únicamente con las columnas siguientes:\n",
    "df_customers = df_customers[[\"Order ID\",\"User ID\",\"Confirmed Orders\"]]"
   ]
  },
  {
   "cell_type": "code",
   "execution_count": 11,
   "metadata": {},
   "outputs": [
    {
     "data": {
      "text/plain": [
       "SKU_ID                         0\n",
       "Order_ID                       0\n",
       "Order_Date                     0\n",
       "Product_Name                   0\n",
       "Barcode_Array                  0\n",
       "Supplier_Names               871\n",
       "Supplier_IDs                 871\n",
       "Listed_Unit_Price_New          0\n",
       "Paid_Unit_Price_New            0\n",
       "Unit_Discount             383657\n",
       "Unit_Cost_New                  0\n",
       "Total_Amount                   0\n",
       "Total_COGS                     0\n",
       "Ordered_Quantity               0\n",
       "Fulfilled_Quantity             0\n",
       "Returned_Quantity              0\n",
       "Original_Item_Subtotal         0\n",
       "Original_Item_COGS             0\n",
       "Adjusted_Item_Subtotal         0\n",
       "Adjusted_Item_COGS             0\n",
       "Store_ID                       0\n",
       "Store_Name                     0\n",
       "Unit_Discount_new         742765\n",
       "dtype: int64"
      ]
     },
     "execution_count": 11,
     "metadata": {},
     "output_type": "execute_result"
    }
   ],
   "source": [
    "# Verificamos Nulos\n",
    "df_orders.isnull().sum()"
   ]
  },
  {
   "cell_type": "code",
   "execution_count": 12,
   "metadata": {},
   "outputs": [],
   "source": [
    "#Nos quedamos con las columnas que nos interesan:\n",
    "df_orders_simple = df_orders.loc[:,['SKU_ID', 'Order_ID', 'Ordered_Quantity', 'Product_Name']]"
   ]
  },
  {
   "cell_type": "code",
   "execution_count": 13,
   "metadata": {},
   "outputs": [],
   "source": [
    "df_orders_simple.reset_index(inplace=True, drop=True)"
   ]
  },
  {
   "cell_type": "code",
   "execution_count": 14,
   "metadata": {},
   "outputs": [
    {
     "data": {
      "text/plain": [
       "Index(['SKU_ID', 'Order_ID', 'Ordered_Quantity', 'Product_Name'], dtype='object')"
      ]
     },
     "execution_count": 14,
     "metadata": {},
     "output_type": "execute_result"
    }
   ],
   "source": [
    "df_orders_simple.columns"
   ]
  },
  {
   "cell_type": "code",
   "execution_count": 15,
   "metadata": {},
   "outputs": [
    {
     "data": {
      "text/html": [
       "<div>\n",
       "<style scoped>\n",
       "    .dataframe tbody tr th:only-of-type {\n",
       "        vertical-align: middle;\n",
       "    }\n",
       "\n",
       "    .dataframe tbody tr th {\n",
       "        vertical-align: top;\n",
       "    }\n",
       "\n",
       "    .dataframe thead th {\n",
       "        text-align: right;\n",
       "    }\n",
       "</style>\n",
       "<table border=\"1\" class=\"dataframe\">\n",
       "  <thead>\n",
       "    <tr style=\"text-align: right;\">\n",
       "      <th></th>\n",
       "      <th>SKU_ID</th>\n",
       "      <th>Order_ID</th>\n",
       "      <th>Ordered_Quantity</th>\n",
       "      <th>Product_Name</th>\n",
       "    </tr>\n",
       "  </thead>\n",
       "  <tbody>\n",
       "    <tr>\n",
       "      <th>0</th>\n",
       "      <td>16903473</td>\n",
       "      <td>227421127</td>\n",
       "      <td>1</td>\n",
       "      <td>Duraznos En Almibar En Mitades La Banda 850 Grs.</td>\n",
       "    </tr>\n",
       "    <tr>\n",
       "      <th>1</th>\n",
       "      <td>17315132</td>\n",
       "      <td>227421127</td>\n",
       "      <td>1</td>\n",
       "      <td>Galletitas Frutigran Salvado 500 G.</td>\n",
       "    </tr>\n",
       "  </tbody>\n",
       "</table>\n",
       "</div>"
      ],
      "text/plain": [
       "     SKU_ID   Order_ID  Ordered_Quantity  \\\n",
       "0  16903473  227421127                 1   \n",
       "1  17315132  227421127                 1   \n",
       "\n",
       "                                       Product_Name  \n",
       "0  Duraznos En Almibar En Mitades La Banda 850 Grs.  \n",
       "1               Galletitas Frutigran Salvado 500 G.  "
      ]
     },
     "execution_count": 15,
     "metadata": {},
     "output_type": "execute_result"
    }
   ],
   "source": [
    "df_orders_simple.head(2)"
   ]
  },
  {
   "cell_type": "code",
   "execution_count": 16,
   "metadata": {},
   "outputs": [],
   "source": [
    "# Armamos el df con los datos de las compras y los clientes\n",
    "df_full = df_orders_simple.merge(df_customers,how=\"inner\",left_on=\"Order_ID\",right_on=\"Order ID\")"
   ]
  },
  {
   "cell_type": "code",
   "execution_count": 53,
   "metadata": {},
   "outputs": [
    {
     "data": {
      "text/html": [
       "<div>\n",
       "<style scoped>\n",
       "    .dataframe tbody tr th:only-of-type {\n",
       "        vertical-align: middle;\n",
       "    }\n",
       "\n",
       "    .dataframe tbody tr th {\n",
       "        vertical-align: top;\n",
       "    }\n",
       "\n",
       "    .dataframe thead th {\n",
       "        text-align: right;\n",
       "    }\n",
       "</style>\n",
       "<table border=\"1\" class=\"dataframe\">\n",
       "  <thead>\n",
       "    <tr style=\"text-align: right;\">\n",
       "      <th></th>\n",
       "      <th>SKU_ID</th>\n",
       "      <th>Order_ID</th>\n",
       "      <th>Ordered_Quantity</th>\n",
       "      <th>Product_Name</th>\n",
       "      <th>Order ID</th>\n",
       "      <th>User ID</th>\n",
       "      <th>Confirmed Orders</th>\n",
       "    </tr>\n",
       "  </thead>\n",
       "  <tbody>\n",
       "    <tr>\n",
       "      <th>0</th>\n",
       "      <td>16903473</td>\n",
       "      <td>227421127</td>\n",
       "      <td>1</td>\n",
       "      <td>Duraznos En Almibar En Mitades La Banda 850 Grs.</td>\n",
       "      <td>227421127</td>\n",
       "      <td>17367247</td>\n",
       "      <td>1</td>\n",
       "    </tr>\n",
       "    <tr>\n",
       "      <th>1</th>\n",
       "      <td>17315132</td>\n",
       "      <td>227421127</td>\n",
       "      <td>1</td>\n",
       "      <td>Galletitas Frutigran Salvado 500 G.</td>\n",
       "      <td>227421127</td>\n",
       "      <td>17367247</td>\n",
       "      <td>1</td>\n",
       "    </tr>\n",
       "    <tr>\n",
       "      <th>2</th>\n",
       "      <td>17315107</td>\n",
       "      <td>227421127</td>\n",
       "      <td>1</td>\n",
       "      <td>Galletitas Granix Granovita Limon 140 G</td>\n",
       "      <td>227421127</td>\n",
       "      <td>17367247</td>\n",
       "      <td>1</td>\n",
       "    </tr>\n",
       "  </tbody>\n",
       "</table>\n",
       "</div>"
      ],
      "text/plain": [
       "     SKU_ID   Order_ID  Ordered_Quantity  \\\n",
       "0  16903473  227421127                 1   \n",
       "1  17315132  227421127                 1   \n",
       "2  17315107  227421127                 1   \n",
       "\n",
       "                                       Product_Name   Order ID   User ID  \\\n",
       "0  Duraznos En Almibar En Mitades La Banda 850 Grs.  227421127  17367247   \n",
       "1               Galletitas Frutigran Salvado 500 G.  227421127  17367247   \n",
       "2           Galletitas Granix Granovita Limon 140 G  227421127  17367247   \n",
       "\n",
       "   Confirmed Orders  \n",
       "0                 1  \n",
       "1                 1  \n",
       "2                 1  "
      ]
     },
     "execution_count": 53,
     "metadata": {},
     "output_type": "execute_result"
    }
   ],
   "source": [
    "df_full.head(3)"
   ]
  },
  {
   "cell_type": "code",
   "execution_count": 17,
   "metadata": {},
   "outputs": [],
   "source": [
    "df_full = df_full.drop(columns=\"Order ID\")"
   ]
  },
  {
   "cell_type": "code",
   "execution_count": 18,
   "metadata": {},
   "outputs": [],
   "source": [
    "df_full = df_full[df_full[\"Confirmed Orders\"] == 1]"
   ]
  },
  {
   "cell_type": "code",
   "execution_count": 19,
   "metadata": {},
   "outputs": [],
   "source": [
    "df_full = df_full.drop(columns=\"Confirmed Orders\")"
   ]
  },
  {
   "cell_type": "code",
   "execution_count": 20,
   "metadata": {},
   "outputs": [
    {
     "data": {
      "text/plain": [
       "(1062964, 5)"
      ]
     },
     "execution_count": 20,
     "metadata": {},
     "output_type": "execute_result"
    }
   ],
   "source": [
    "df_full.shape"
   ]
  },
  {
   "cell_type": "code",
   "execution_count": 21,
   "metadata": {},
   "outputs": [],
   "source": [
    "df_full_cat = df_full.merge(df_categories, on=\"Product_Name\" ,how=\"left\")"
   ]
  },
  {
   "cell_type": "code",
   "execution_count": 22,
   "metadata": {},
   "outputs": [
    {
     "data": {
      "text/plain": [
       "2440"
      ]
     },
     "execution_count": 22,
     "metadata": {},
     "output_type": "execute_result"
    }
   ],
   "source": [
    "df_full.SKU_ID.nunique()"
   ]
  },
  {
   "cell_type": "code",
   "execution_count": 23,
   "metadata": {},
   "outputs": [
    {
     "data": {
      "text/plain": [
       "SKU_ID              0\n",
       "Order_ID            0\n",
       "Ordered_Quantity    0\n",
       "Product_Name        0\n",
       "User ID             0\n",
       "dtype: int64"
      ]
     },
     "execution_count": 23,
     "metadata": {},
     "output_type": "execute_result"
    }
   ],
   "source": [
    "df_full.isna().sum()"
   ]
  },
  {
   "cell_type": "code",
   "execution_count": 24,
   "metadata": {},
   "outputs": [
    {
     "data": {
      "text/plain": [
       "SKU_ID                   0\n",
       "Order_ID                 0\n",
       "Ordered_Quantity         0\n",
       "Product_Name             0\n",
       "User ID                  0\n",
       "Familia             281410\n",
       "dtype: int64"
      ]
     },
     "execution_count": 24,
     "metadata": {},
     "output_type": "execute_result"
    }
   ],
   "source": [
    "df_full_cat.isna().sum()"
   ]
  },
  {
   "cell_type": "code",
   "execution_count": 25,
   "metadata": {},
   "outputs": [
    {
     "name": "stdout",
     "output_type": "stream",
     "text": [
      "763 productos sin Familia\n"
     ]
    }
   ],
   "source": [
    "print(df_full_cat[\"Product_Name\"][df_full_cat.Familia.isna()].nunique(), \"productos sin Familia\")"
   ]
  },
  {
   "cell_type": "code",
   "execution_count": 26,
   "metadata": {},
   "outputs": [],
   "source": [
    "df_full_cat.loc[:,[\"Product_Name\",\"Familia\"]].drop_duplicates(inplace=True)"
   ]
  },
  {
   "cell_type": "code",
   "execution_count": 27,
   "metadata": {},
   "outputs": [
    {
     "data": {
      "text/html": [
       "<div>\n",
       "<style scoped>\n",
       "    .dataframe tbody tr th:only-of-type {\n",
       "        vertical-align: middle;\n",
       "    }\n",
       "\n",
       "    .dataframe tbody tr th {\n",
       "        vertical-align: top;\n",
       "    }\n",
       "\n",
       "    .dataframe thead th {\n",
       "        text-align: right;\n",
       "    }\n",
       "</style>\n",
       "<table border=\"1\" class=\"dataframe\">\n",
       "  <thead>\n",
       "    <tr style=\"text-align: right;\">\n",
       "      <th></th>\n",
       "      <th>SKU_ID</th>\n",
       "      <th>Order_ID</th>\n",
       "      <th>Ordered_Quantity</th>\n",
       "      <th>Product_Name</th>\n",
       "      <th>User ID</th>\n",
       "      <th>Familia</th>\n",
       "    </tr>\n",
       "  </thead>\n",
       "  <tbody>\n",
       "    <tr>\n",
       "      <th>745836</th>\n",
       "      <td>15500968</td>\n",
       "      <td>253789197</td>\n",
       "      <td>5</td>\n",
       "      <td>Jugo En Polvo Clight Manzana Deliciosa 7 G.</td>\n",
       "      <td>20495752</td>\n",
       "      <td>Jugo</td>\n",
       "    </tr>\n",
       "    <tr>\n",
       "      <th>63755</th>\n",
       "      <td>19839839</td>\n",
       "      <td>229954806</td>\n",
       "      <td>1</td>\n",
       "      <td>Vino Tinto Blend Killka 750 Cc.</td>\n",
       "      <td>18190816</td>\n",
       "      <td>Vino</td>\n",
       "    </tr>\n",
       "  </tbody>\n",
       "</table>\n",
       "</div>"
      ],
      "text/plain": [
       "          SKU_ID   Order_ID  Ordered_Quantity  \\\n",
       "745836  15500968  253789197                 5   \n",
       "63755   19839839  229954806                 1   \n",
       "\n",
       "                                       Product_Name   User ID Familia  \n",
       "745836  Jugo En Polvo Clight Manzana Deliciosa 7 G.  20495752    Jugo  \n",
       "63755               Vino Tinto Blend Killka 750 Cc.  18190816    Vino  "
      ]
     },
     "execution_count": 27,
     "metadata": {},
     "output_type": "execute_result"
    }
   ],
   "source": [
    "df_full_cat.sample(2)"
   ]
  },
  {
   "cell_type": "code",
   "execution_count": 28,
   "metadata": {},
   "outputs": [
    {
     "name": "stdout",
     "output_type": "stream",
     "text": [
      "1062964 cantidad de órdenes totales\n"
     ]
    }
   ],
   "source": [
    "print(len(df_full.Order_ID), \"cantidad de órdenes totales\")"
   ]
  },
  {
   "cell_type": "code",
   "execution_count": 29,
   "metadata": {},
   "outputs": [
    {
     "data": {
      "text/plain": [
       "count      1062964.000000\n",
       "mean     246369855.433947\n",
       "std       10540535.461057\n",
       "min      227421127.000000\n",
       "25%      237440125.000000\n",
       "50%      246869787.000000\n",
       "75%      255387802.000000\n",
       "max      264691076.000000\n",
       "Name: Order_ID, dtype: object"
      ]
     },
     "execution_count": 29,
     "metadata": {},
     "output_type": "execute_result"
    }
   ],
   "source": [
    "# Buscamos un valor aproximado para cortar el dataset en train y test\n",
    "df_full.Order_ID.describe().apply(lambda x: format(x, 'f'))"
   ]
  },
  {
   "cell_type": "code",
   "execution_count": 34,
   "metadata": {},
   "outputs": [],
   "source": [
    "#df_full.loc[:,[\"Product_Name\",\"Familia\"]].drop_duplicates().to_csv(\"pepito.csv\")"
   ]
  },
  {
   "cell_type": "code",
   "execution_count": 30,
   "metadata": {},
   "outputs": [],
   "source": [
    "df_full_simple = df_full[['SKU_ID', 'Ordered_Quantity', 'User ID']] # Get rid of unnecessary info"
   ]
  },
  {
   "cell_type": "code",
   "execution_count": 31,
   "metadata": {},
   "outputs": [
    {
     "name": "stdout",
     "output_type": "stream",
     "text": [
      "<class 'pandas.core.frame.DataFrame'>\n",
      "RangeIndex: 850661 entries, 0 to 850660\n",
      "Data columns (total 3 columns):\n",
      " #   Column            Non-Null Count   Dtype\n",
      "---  ------            --------------   -----\n",
      " 0   User ID           850661 non-null  int64\n",
      " 1   SKU_ID            850661 non-null  int64\n",
      " 2   Ordered_Quantity  850661 non-null  int64\n",
      "dtypes: int64(3)\n",
      "memory usage: 19.5 MB\n"
     ]
    }
   ],
   "source": [
    "# Agrupo los datos por lo necesario\n",
    "df_full_simple_grouped = df_full_simple.groupby([\"User ID\",\"SKU_ID\"]).sum().reset_index() # Group together\n",
    "df_full_simple_grouped.info()"
   ]
  },
  {
   "cell_type": "code",
   "execution_count": 32,
   "metadata": {},
   "outputs": [
    {
     "name": "stdout",
     "output_type": "stream",
     "text": [
      "<class 'pandas.core.frame.DataFrame'>\n",
      "RangeIndex: 1047107 entries, 0 to 1047106\n",
      "Data columns (total 4 columns):\n",
      " #   Column            Non-Null Count    Dtype\n",
      "---  ------            --------------    -----\n",
      " 0   Order_ID          1047107 non-null  int64\n",
      " 1   User ID           1047107 non-null  int64\n",
      " 2   SKU_ID            1047107 non-null  int64\n",
      " 3   Ordered_Quantity  1047107 non-null  int64\n",
      "dtypes: int64(4)\n",
      "memory usage: 32.0 MB\n"
     ]
    }
   ],
   "source": [
    "df_full_grouped = df_full.groupby(['Order_ID', \"User ID\",\"SKU_ID\"]).sum().reset_index() # Group together\n",
    "df_full_grouped.info()"
   ]
  },
  {
   "cell_type": "code",
   "execution_count": 33,
   "metadata": {},
   "outputs": [
    {
     "data": {
      "text/html": [
       "<div>\n",
       "<style scoped>\n",
       "    .dataframe tbody tr th:only-of-type {\n",
       "        vertical-align: middle;\n",
       "    }\n",
       "\n",
       "    .dataframe tbody tr th {\n",
       "        vertical-align: top;\n",
       "    }\n",
       "\n",
       "    .dataframe thead th {\n",
       "        text-align: right;\n",
       "    }\n",
       "</style>\n",
       "<table border=\"1\" class=\"dataframe\">\n",
       "  <thead>\n",
       "    <tr style=\"text-align: right;\">\n",
       "      <th></th>\n",
       "      <th>User ID</th>\n",
       "      <th>SKU_ID</th>\n",
       "      <th>Ordered_Quantity</th>\n",
       "    </tr>\n",
       "  </thead>\n",
       "  <tbody>\n",
       "    <tr>\n",
       "      <th>26</th>\n",
       "      <td>936</td>\n",
       "      <td>15500909</td>\n",
       "      <td>9</td>\n",
       "    </tr>\n",
       "    <tr>\n",
       "      <th>27</th>\n",
       "      <td>936</td>\n",
       "      <td>15500981</td>\n",
       "      <td>1</td>\n",
       "    </tr>\n",
       "    <tr>\n",
       "      <th>28</th>\n",
       "      <td>936</td>\n",
       "      <td>15609034</td>\n",
       "      <td>1</td>\n",
       "    </tr>\n",
       "    <tr>\n",
       "      <th>29</th>\n",
       "      <td>936</td>\n",
       "      <td>15791700</td>\n",
       "      <td>5</td>\n",
       "    </tr>\n",
       "    <tr>\n",
       "      <th>30</th>\n",
       "      <td>936</td>\n",
       "      <td>16087199</td>\n",
       "      <td>1</td>\n",
       "    </tr>\n",
       "  </tbody>\n",
       "</table>\n",
       "</div>"
      ],
      "text/plain": [
       "    User ID    SKU_ID  Ordered_Quantity\n",
       "26      936  15500909                 9\n",
       "27      936  15500981                 1\n",
       "28      936  15609034                 1\n",
       "29      936  15791700                 5\n",
       "30      936  16087199                 1"
      ]
     },
     "execution_count": 33,
     "metadata": {},
     "output_type": "execute_result"
    }
   ],
   "source": [
    "df_full_simple_grouped[df_full_simple_grouped[\"User ID\"]==936].head(5)"
   ]
  },
  {
   "cell_type": "code",
   "execution_count": 34,
   "metadata": {},
   "outputs": [
    {
     "data": {
      "text/html": [
       "<div>\n",
       "<style scoped>\n",
       "    .dataframe tbody tr th:only-of-type {\n",
       "        vertical-align: middle;\n",
       "    }\n",
       "\n",
       "    .dataframe tbody tr th {\n",
       "        vertical-align: top;\n",
       "    }\n",
       "\n",
       "    .dataframe thead th {\n",
       "        text-align: right;\n",
       "    }\n",
       "</style>\n",
       "<table border=\"1\" class=\"dataframe\">\n",
       "  <thead>\n",
       "    <tr style=\"text-align: right;\">\n",
       "      <th></th>\n",
       "      <th>Order_ID</th>\n",
       "      <th>User ID</th>\n",
       "      <th>SKU_ID</th>\n",
       "      <th>Ordered_Quantity</th>\n",
       "    </tr>\n",
       "  </thead>\n",
       "  <tbody>\n",
       "    <tr>\n",
       "      <th>942035</th>\n",
       "      <td>260693088</td>\n",
       "      <td>936</td>\n",
       "      <td>15500909</td>\n",
       "      <td>4</td>\n",
       "    </tr>\n",
       "    <tr>\n",
       "      <th>942036</th>\n",
       "      <td>260693088</td>\n",
       "      <td>936</td>\n",
       "      <td>16405480</td>\n",
       "      <td>1</td>\n",
       "    </tr>\n",
       "    <tr>\n",
       "      <th>942037</th>\n",
       "      <td>260693088</td>\n",
       "      <td>936</td>\n",
       "      <td>16953366</td>\n",
       "      <td>1</td>\n",
       "    </tr>\n",
       "  </tbody>\n",
       "</table>\n",
       "</div>"
      ],
      "text/plain": [
       "         Order_ID  User ID    SKU_ID  Ordered_Quantity\n",
       "942035  260693088      936  15500909                 4\n",
       "942036  260693088      936  16405480                 1\n",
       "942037  260693088      936  16953366                 1"
      ]
     },
     "execution_count": 34,
     "metadata": {},
     "output_type": "execute_result"
    }
   ],
   "source": [
    "df_full_grouped[df_full_grouped[\"User ID\"]==936].head(3)"
   ]
  },
  {
   "cell_type": "code",
   "execution_count": 35,
   "metadata": {},
   "outputs": [
    {
     "name": "stdout",
     "output_type": "stream",
     "text": [
      "65303 clientes con compras registradas\n"
     ]
    }
   ],
   "source": [
    "print(len(df_full_simple['User ID'].unique()), \"clientes con compras registradas\")"
   ]
  },
  {
   "cell_type": "code",
   "execution_count": 36,
   "metadata": {},
   "outputs": [],
   "source": [
    "# Genero set de training y de testeo manualmente\n",
    "df_full_test = df_full[df_full.Order_ID>264501076]\n",
    "df_full = df_full[df_full.Order_ID<=264501076]"
   ]
  },
  {
   "cell_type": "code",
   "execution_count": 37,
   "metadata": {},
   "outputs": [
    {
     "name": "stdout",
     "output_type": "stream",
     "text": [
      "(2351, 5)\n",
      "(1060613, 5)\n"
     ]
    }
   ],
   "source": [
    "print(df_full_test.shape)\n",
    "print(df_full.shape)"
   ]
  },
  {
   "cell_type": "code",
   "execution_count": 38,
   "metadata": {},
   "outputs": [],
   "source": [
    "# Create a numeric user_id and product_id column\n",
    "df_full[\"User ID\"] = df_full[\"User ID\"].astype(\"category\")\n",
    "df_full['SKU_ID'] = df_full['SKU_ID'].astype(\"category\")\n",
    "df_full['User_ID_CODE'] = df_full['User ID'].cat.codes\n",
    "df_full['SKU_ID_CODE'] = df_full['SKU_ID'].cat.codes"
   ]
  },
  {
   "cell_type": "code",
   "execution_count": 39,
   "metadata": {},
   "outputs": [],
   "source": [
    "# Generamos 2 matrices esparsas, una con base cliente contra productos y la otra en base productos contra clientes\n",
    "sparse_user_item = sparse.csr_matrix((df_full['Ordered_Quantity'].astype(float), (df_full['User_ID_CODE'], df_full['SKU_ID_CODE'])))\n",
    "sparse_item_user = sparse.csr_matrix((df_full['Ordered_Quantity'].astype(float), (df_full['SKU_ID_CODE'], df_full['User_ID_CODE'])))"
   ]
  },
  {
   "cell_type": "code",
   "execution_count": 40,
   "metadata": {},
   "outputs": [
    {
     "name": "stderr",
     "output_type": "stream",
     "text": [
      "WARNING:root:OpenBLAS detected. Its highly recommend to set the environment variable 'export OPENBLAS_NUM_THREADS=1' to disable its internal multithreading\n"
     ]
    },
    {
     "data": {
      "application/vnd.jupyter.widget-view+json": {
       "model_id": "1b89877ec55048719f5d9b8d7b73bffc",
       "version_major": 2,
       "version_minor": 0
      },
      "text/plain": [
       "HBox(children=(HTML(value=''), FloatProgress(value=0.0, max=10.0), HTML(value='')))"
      ]
     },
     "metadata": {},
     "output_type": "display_data"
    },
    {
     "name": "stdout",
     "output_type": "stream",
     "text": [
      "\n"
     ]
    }
   ],
   "source": [
    "import implicit\n",
    "\n",
    "# initialize a model\n",
    "model = implicit.als.AlternatingLeastSquares(factors=50, regularization=0.05, iterations=10)\n",
    "\n",
    "# train the model on a sparse matrix of item/user/confidence weights\n",
    "model.fit(sparse_item_user)"
   ]
  },
  {
   "cell_type": "code",
   "execution_count": 41,
   "metadata": {},
   "outputs": [],
   "source": [
    "user_items = sparse_item_user.T.tocsr()"
   ]
  },
  {
   "cell_type": "code",
   "execution_count": 42,
   "metadata": {},
   "outputs": [
    {
     "data": {
      "text/plain": [
       "<65142x2440 sparse matrix of type '<class 'numpy.float64'>'\n",
       "\twith 848825 stored elements in Compressed Sparse Row format>"
      ]
     },
     "execution_count": 42,
     "metadata": {},
     "output_type": "execute_result"
    }
   ],
   "source": [
    "user_items"
   ]
  },
  {
   "cell_type": "code",
   "execution_count": 43,
   "metadata": {},
   "outputs": [],
   "source": [
    "# Se crea función para dividir training y testing\n",
    "def make_train(ratings, pct_test = 0.12):\n",
    "    '''\n",
    "    This function will take in the original user-item matrix and \"mask\" a percentage of the original ratings where a\n",
    "    user-item interaction has taken place for use as a test set. The test set will contain all of the original ratings, \n",
    "    while the training set replaces the specified percentage of them with a zero in the original ratings matrix. \n",
    "    \n",
    "    parameters: \n",
    "    \n",
    "    ratings - the original ratings matrix from which you want to generate a train/test set. Test is just a complete\n",
    "    copy of the original set. This is in the form of a sparse csr_matrix. \n",
    "    \n",
    "    pct_test - The percentage of user-item interactions where an interaction took place that you want to mask in the \n",
    "    training set for later comparison to the test set, which contains all of the original ratings. \n",
    "    \n",
    "    returns:\n",
    "    \n",
    "    training_set - The altered version of the original data with a certain percentage of the user-item pairs \n",
    "    that originally had interaction set back to zero.\n",
    "    \n",
    "    test_set - A copy of the original ratings matrix, unaltered, so it can be used to see how the rank order \n",
    "    compares with the actual interactions.\n",
    "    \n",
    "    user_inds - From the randomly selected user-item indices, which user rows were altered in the training data.\n",
    "    This will be necessary later when evaluating the performance via AUC.\n",
    "    '''\n",
    "    test_set = ratings.copy() # Make a copy of the original set to be the test set. \n",
    "    test_set[test_set != 0] = 1 # Store the test set as a binary preference matrix\n",
    "    training_set = ratings.copy() # Make a copy of the original data we can alter as our training set. \n",
    "    nonzero_inds = training_set.nonzero() # Find the indices in the ratings data where an interaction exists\n",
    "    nonzero_pairs = list(zip(nonzero_inds[0], nonzero_inds[1])) # Zip these pairs together of user,item index into list\n",
    "    random.seed(0) # Set the random seed to zero for reproducibility\n",
    "    num_samples = int(np.ceil(pct_test*len(nonzero_pairs))) # Round the number of samples needed to the nearest integer\n",
    "    samples = random.sample(nonzero_pairs, num_samples) # Sample a random number of user-item pairs without replacement\n",
    "    user_inds = [index[0] for index in samples] # Get the user row indices\n",
    "    item_inds = [index[1] for index in samples] # Get the item column indices\n",
    "    training_set[user_inds, item_inds] = 0 # Assign all of the randomly chosen user-item pairs to zero\n",
    "    training_set.eliminate_zeros() # Get rid of zeros in sparse array storage after update to save space\n",
    "    return training_set, test_set, list(set(user_inds)) # Output the unique list of user rows that were altered  "
   ]
  },
  {
   "cell_type": "code",
   "execution_count": 44,
   "metadata": {},
   "outputs": [],
   "source": [
    "#Usamos la función del paper para generar el split del ds\n",
    "product_train, product_test, product_users_altered = make_train(sparse_user_item, pct_test = 0.2)"
   ]
  },
  {
   "cell_type": "code",
   "execution_count": 62,
   "metadata": {},
   "outputs": [
    {
     "data": {
      "application/vnd.jupyter.widget-view+json": {
       "model_id": "3106648776024a86b964613652c6fb65",
       "version_major": 2,
       "version_minor": 0
      },
      "text/plain": [
       "HBox(children=(HTML(value=''), FloatProgress(value=0.0, max=10.0), HTML(value='')))"
      ]
     },
     "metadata": {},
     "output_type": "display_data"
    },
    {
     "name": "stdout",
     "output_type": "stream",
     "text": [
      "\n"
     ]
    }
   ],
   "source": [
    "# initialize a model\n",
    "model_2 = implicit.als.AlternatingLeastSquares(factors=50, regularization=0.05, iterations=10)\n",
    "\n",
    "# train the model on a sparse matrix of item/user/confidence weights\n",
    "model_2.fit(product_train.T)"
   ]
  },
  {
   "cell_type": "code",
   "execution_count": 47,
   "metadata": {},
   "outputs": [],
   "source": [
    "def auc_score(predictions, test):\n",
    "    '''\n",
    "    This simple function will output the area under the curve using sklearn's metrics. \n",
    "    \n",
    "    parameters:\n",
    "    \n",
    "    - predictions: your prediction output\n",
    "    \n",
    "    - test: the actual target result you are comparing to\n",
    "    \n",
    "    returns:\n",
    "    \n",
    "    - AUC (area under the Receiver Operating Characterisic curve)\n",
    "    '''\n",
    "    fpr, tpr, thresholds = metrics.roc_curve(test, predictions)\n",
    "    return metrics.auc(fpr, tpr)"
   ]
  },
  {
   "cell_type": "code",
   "execution_count": 48,
   "metadata": {},
   "outputs": [],
   "source": [
    "def calc_mean_auc(training_set, altered_users, predictions, test_set):\n",
    "    '''\n",
    "    This function will calculate the mean AUC by user for any user that had their user-item matrix altered. \n",
    "    \n",
    "    parameters:\n",
    "    \n",
    "    training_set - The training set resulting from make_train, where a certain percentage of the original\n",
    "    user/item interactions are reset to zero to hide them from the model \n",
    "    \n",
    "    predictions - The matrix of your predicted ratings for each user/item pair as output from the implicit MF.\n",
    "    These should be stored in a list, with user vectors as item zero and item vectors as item one. \n",
    "    \n",
    "    altered_users - The indices of the users where at least one user/item pair was altered from make_train function\n",
    "    \n",
    "    test_set - The test set constucted earlier from make_train function\n",
    "    \n",
    "    \n",
    "    \n",
    "    returns:\n",
    "    \n",
    "    The mean AUC (area under the Receiver Operator Characteristic curve) of the test set only on user-item interactions\n",
    "    there were originally zero to test ranking ability in addition to the most popular items as a benchmark.\n",
    "    '''\n",
    "    \n",
    "    \n",
    "    store_auc = [] # An empty list to store the AUC for each user that had an item removed from the training set\n",
    "    popularity_auc = [] # To store popular AUC scores\n",
    "    pop_items = np.array(test_set.sum(axis = 0)).reshape(-1) # Get sum of item iteractions to find most popular\n",
    "    item_vecs = predictions[1]\n",
    "    for user in altered_users: # Iterate through each user that had an item altered\n",
    "        training_row = training_set[user,:].toarray().reshape(-1) # Get the training set row\n",
    "        zero_inds = np.where(training_row == 0) # Find where the interaction had not yet occurred\n",
    "        # Get the predicted values based on our user/item vectors\n",
    "        user_vec = predictions[0][user,:]\n",
    "        pred = user_vec.dot(item_vecs).toarray()[0,zero_inds].reshape(-1)\n",
    "        # Get only the items that were originally zero\n",
    "        # Select all ratings from the MF prediction for this user that originally had no iteraction\n",
    "        actual = test_set[user,:].toarray()[0,zero_inds].reshape(-1) \n",
    "        # Select the binarized yes/no interaction pairs from the original full data\n",
    "        # that align with the same pairs in training \n",
    "        pop = pop_items[zero_inds] # Get the item popularity for our chosen items\n",
    "        store_auc.append(auc_score(pred, actual)) # Calculate AUC for the given user and store\n",
    "        popularity_auc.append(auc_score(pop, actual)) # Calculate AUC using most popular and score\n",
    "         \n",
    "    # End users iteration\n",
    "    \n",
    "    return float('%.3f'%np.mean(store_auc)), float('%.3f'%np.mean(popularity_auc))\n",
    "   # Return the mean AUC rounded to three decimal places for both test and popularity benchmark"
   ]
  },
  {
   "cell_type": "code",
   "execution_count": 311,
   "metadata": {},
   "outputs": [
    {
     "data": {
      "text/plain": [
       "(0.907, 0.813)"
      ]
     },
     "execution_count": 311,
     "metadata": {},
     "output_type": "execute_result"
    }
   ],
   "source": [
    "#Con nuestro modelo entrenado en product_train, pero falla la recomendación con nuestra función por estar invertida la matrix\n",
    "calc_mean_auc(product_train, product_users_altered, [sparse.csr_matrix(model.user_factors), sparse.csr_matrix(model.item_factors.T)], product_test)"
   ]
  },
  {
   "cell_type": "code",
   "execution_count": 64,
   "metadata": {},
   "outputs": [
    {
     "data": {
      "text/plain": [
       "(0.718, 0.813)"
      ]
     },
     "execution_count": 64,
     "metadata": {},
     "output_type": "execute_result"
    }
   ],
   "source": [
    "#Con nuestro modelo entrenado en product_train.T\n",
    "calc_mean_auc(product_train, product_users_altered, [sparse.csr_matrix(model_2.user_factors), sparse.csr_matrix(model_2.item_factors.T)], product_test)"
   ]
  },
  {
   "cell_type": "code",
   "execution_count": 65,
   "metadata": {},
   "outputs": [],
   "source": [
    "def recommend():\n",
    "    USER=  int(input(\"Elija el nro de cliente:\"))\n",
    "    CANT=  int(input(\"Elija la cantidad de sugerencias:\"))\n",
    "    # recommend items for a user\n",
    "    USER_CODE = df_full.User_ID_CODE.loc[df_full[\"User ID\"] == USER].iloc[0]\n",
    "    recommendations = model.recommend(USER_CODE, user_items, N=CANT)\n",
    "    print (\"_______________\")\n",
    "    print (\"Para el cliente especificado se encontraron los siguientes\",CANT,\"productos recomendados:\")\n",
    "    print (\"\")\n",
    "    for i in np.arange(0,CANT):\n",
    "        print (df_orders.Product_Name[df_orders.SKU_ID == df_full.SKU_ID.loc[df_full.SKU_ID_CODE == recommendations[i][0]].iloc[0]].iloc[0], \" con un \",round(recommendations[i][1]*100,2),\"%\",\" de probable aceptación.\")"
   ]
  },
  {
   "cell_type": "code",
   "execution_count": 66,
   "metadata": {},
   "outputs": [],
   "source": [
    "def similar_items():\n",
    "    SKU_ID=  int(input(\"Elija el nro de producto:\"))\n",
    "    SKU_ID_IMPLICIT = df_full.SKU_ID_CODE.loc[df_full[\"SKU_ID\"] == SKU_ID].iloc[0]\n",
    "    # recommend items from other related items\n",
    "    related = model.similar_items(SKU_ID_IMPLICIT)\n",
    "    print (\"_______________\")\n",
    "    print (\"En base al producto elegido (\"+df_orders.Product_Name[df_orders.SKU_ID==df_full.SKU_ID.loc[df_full.SKU_ID_CODE == SKU_ID_IMPLICIT].iloc[0]].values[0]+\"), por compras similares se encontraron los siguientes productos:\")\n",
    "    print (\"\")\n",
    "    for i in np.arange(1,10):\n",
    "        print (df_orders.Product_Name[df_orders.SKU_ID == df_full.SKU_ID.loc[df_full.SKU_ID_CODE == related[i][0]].iloc[0]].iloc[0], \" con un \",round(related[i][1]*100,2),\"%\",\" de similaridad.\")"
   ]
  },
  {
   "cell_type": "code",
   "execution_count": 67,
   "metadata": {},
   "outputs": [],
   "source": [
    "def search_prod():\n",
    "    search = input(\"Búsqueda de SKU por nombre:\")\n",
    "    print()\n",
    "    return print(display(df_orders.loc[:,[\"SKU_ID\",\"Product_Name\"]][df_orders.Product_Name.str.contains(search)].drop_duplicates()))"
   ]
  },
  {
   "cell_type": "code",
   "execution_count": 68,
   "metadata": {},
   "outputs": [
    {
     "name": "stdin",
     "output_type": "stream",
     "text": [
      "Elija el nro de producto: 16244933\n"
     ]
    },
    {
     "name": "stdout",
     "output_type": "stream",
     "text": [
      "_______________\n",
      "En base al producto elegido (Leche Infantil Líquida NAN Etapa 2 (6 a 12 meses) Optipro 190ml), por compras similares se encontraron los siguientes productos:\n",
      "\n",
      "Leche Fluida Infantil Sancor Bebé Etapa 2 200 Cc.  con un  92.0 %  de similaridad.\n",
      "Leche Fluida Infantil Sancor Bebé Etapa 2 500 Cc.  con un  80.55 %  de similaridad.\n",
      "Leche Fluida Infantil Nutrilon Etapa 2 200 Cc.  con un  74.69 %  de similaridad.\n",
      "Postre Serenito Vainilla 100 gr  con un  72.2 %  de similaridad.\n",
      "Leche fluída infantil Nidina 2 200 cc.  con un  69.35 %  de similaridad.\n",
      "Pañales Super Sec Pampers Xg 8 Un  con un  67.74 %  de similaridad.\n",
      "Leche Entera Infantil Nido Primera Infancia 3 200 Cc.  con un  64.2 %  de similaridad.\n",
      "Pack Yogurisimo Cremix Frutilla 120 g  con un  63.6 %  de similaridad.\n",
      "Yogur Yogurisimo Entero Vainilla Fort Firme 120 g  con un  62.16 %  de similaridad.\n"
     ]
    }
   ],
   "source": [
    "similar_items() #16244933"
   ]
  },
  {
   "cell_type": "code",
   "execution_count": 102,
   "metadata": {},
   "outputs": [
    {
     "name": "stdin",
     "output_type": "stream",
     "text": [
      "Elija el código del producto: 1221\n"
     ]
    },
    {
     "name": "stdout",
     "output_type": "stream",
     "text": [
      "Eligió el producto: ' Agua Mineral Villavicencio Con Gas 1,5L '\n",
      "El SKU_ID del producto es el 17620665\n"
     ]
    }
   ],
   "source": [
    "#Esto sería para buscar el código de la categoría del producto, pero ya lo embebimos en la función de búsqueda.\n",
    "#SKU_ID=  int(input(\"Elija el código del producto:\"))\n",
    "#print (\"Eligió el producto: '\",df_orders.Product_Name[df_orders.SKU_ID==df_full.SKU_ID.loc[df_full.SKU_ID_CODE == SKU_ID].iloc[0]].values[0],\"'\")\n",
    "#print (\"El SKU_ID del producto es el\",df_full.SKU_ID.loc[df_full.SKU_ID_CODE == SKU_ID].iloc[0])"
   ]
  },
  {
   "cell_type": "code",
   "execution_count": 69,
   "metadata": {},
   "outputs": [],
   "source": [
    "#Compras por cliente\n",
    "df_cltes = df_full.drop(columns=[\"User_ID_CODE\"])\n",
    "df_cltes_test = df_full_test"
   ]
  },
  {
   "cell_type": "code",
   "execution_count": 70,
   "metadata": {},
   "outputs": [
    {
     "data": {
      "text/html": [
       "<div>\n",
       "<style scoped>\n",
       "    .dataframe tbody tr th:only-of-type {\n",
       "        vertical-align: middle;\n",
       "    }\n",
       "\n",
       "    .dataframe tbody tr th {\n",
       "        vertical-align: top;\n",
       "    }\n",
       "\n",
       "    .dataframe thead th {\n",
       "        text-align: right;\n",
       "    }\n",
       "</style>\n",
       "<table border=\"1\" class=\"dataframe\">\n",
       "  <thead>\n",
       "    <tr style=\"text-align: right;\">\n",
       "      <th></th>\n",
       "      <th>SKU_ID</th>\n",
       "      <th>Order_ID</th>\n",
       "      <th>Ordered_Quantity</th>\n",
       "      <th>Product_Name</th>\n",
       "      <th>User ID</th>\n",
       "      <th>SKU_ID_CODE</th>\n",
       "    </tr>\n",
       "  </thead>\n",
       "  <tbody>\n",
       "    <tr>\n",
       "      <th>0</th>\n",
       "      <td>16903473</td>\n",
       "      <td>227421127</td>\n",
       "      <td>1</td>\n",
       "      <td>Duraznos En Almibar En Mitades La Banda 850 Grs.</td>\n",
       "      <td>17367247</td>\n",
       "      <td>910</td>\n",
       "    </tr>\n",
       "    <tr>\n",
       "      <th>1</th>\n",
       "      <td>17315132</td>\n",
       "      <td>227421127</td>\n",
       "      <td>1</td>\n",
       "      <td>Galletitas Frutigran Salvado 500 G.</td>\n",
       "      <td>17367247</td>\n",
       "      <td>1126</td>\n",
       "    </tr>\n",
       "  </tbody>\n",
       "</table>\n",
       "</div>"
      ],
      "text/plain": [
       "     SKU_ID   Order_ID  Ordered_Quantity  \\\n",
       "0  16903473  227421127                 1   \n",
       "1  17315132  227421127                 1   \n",
       "\n",
       "                                       Product_Name   User ID  SKU_ID_CODE  \n",
       "0  Duraznos En Almibar En Mitades La Banda 850 Grs.  17367247          910  \n",
       "1               Galletitas Frutigran Salvado 500 G.  17367247         1126  "
      ]
     },
     "execution_count": 70,
     "metadata": {},
     "output_type": "execute_result"
    }
   ],
   "source": [
    "df_cltes.head(2)"
   ]
  },
  {
   "cell_type": "code",
   "execution_count": 71,
   "metadata": {},
   "outputs": [
    {
     "name": "stdin",
     "output_type": "stream",
     "text": [
      "Ingrese número de cliente: 17367247\n"
     ]
    },
    {
     "data": {
      "text/html": [
       "<div>\n",
       "<style scoped>\n",
       "    .dataframe tbody tr th:only-of-type {\n",
       "        vertical-align: middle;\n",
       "    }\n",
       "\n",
       "    .dataframe tbody tr th {\n",
       "        vertical-align: top;\n",
       "    }\n",
       "\n",
       "    .dataframe thead th {\n",
       "        text-align: right;\n",
       "    }\n",
       "</style>\n",
       "<table border=\"1\" class=\"dataframe\">\n",
       "  <thead>\n",
       "    <tr style=\"text-align: right;\">\n",
       "      <th></th>\n",
       "      <th></th>\n",
       "      <th>Ordered_Quantity</th>\n",
       "      <th>SKU_ID_CODE</th>\n",
       "    </tr>\n",
       "    <tr>\n",
       "      <th>Order_ID</th>\n",
       "      <th>Product_Name</th>\n",
       "      <th></th>\n",
       "      <th></th>\n",
       "    </tr>\n",
       "  </thead>\n",
       "  <tbody>\n",
       "    <tr>\n",
       "      <th rowspan=\"17\" valign=\"top\">227421127</th>\n",
       "      <th>Duraznos En Almibar En Mitades La Banda 850 Grs.</th>\n",
       "      <td>1</td>\n",
       "      <td>910</td>\n",
       "    </tr>\n",
       "    <tr>\n",
       "      <th>Galletitas Frutigran Salvado 500 G.</th>\n",
       "      <td>1</td>\n",
       "      <td>1126</td>\n",
       "    </tr>\n",
       "    <tr>\n",
       "      <th>Galletitas Granix Granovita Limon 140 G</th>\n",
       "      <td>1</td>\n",
       "      <td>1110</td>\n",
       "    </tr>\n",
       "    <tr>\n",
       "      <th>Hebras Cuatro Quesos Light Finlandia Chef 150gr</th>\n",
       "      <td>1</td>\n",
       "      <td>756</td>\n",
       "    </tr>\n",
       "    <tr>\n",
       "      <th>Huevo color Avicoper 12 un</th>\n",
       "      <td>1</td>\n",
       "      <td>1936</td>\n",
       "    </tr>\n",
       "    <tr>\n",
       "      <th>Jugo En Polvo Clight Naranja Dulce 7.5 G.</th>\n",
       "      <td>5</td>\n",
       "      <td>47</td>\n",
       "    </tr>\n",
       "    <tr>\n",
       "      <th>Leche Parcialmente Descremada Liviana La Serenisima Larga Vida 1L</th>\n",
       "      <td>1</td>\n",
       "      <td>48</td>\n",
       "    </tr>\n",
       "    <tr>\n",
       "      <th>Limón X 1Kg</th>\n",
       "      <td>1</td>\n",
       "      <td>653</td>\n",
       "    </tr>\n",
       "    <tr>\n",
       "      <th>Manteca Milkaut 200 G.</th>\n",
       "      <td>1</td>\n",
       "      <td>819</td>\n",
       "    </tr>\n",
       "    <tr>\n",
       "      <th>Queso Fundido Adler Light 100 G.</th>\n",
       "      <td>1</td>\n",
       "      <td>783</td>\n",
       "    </tr>\n",
       "    <tr>\n",
       "      <th>Queso Por Salut Tregar Unidad Aprox. 450Grs.</th>\n",
       "      <td>1</td>\n",
       "      <td>1175</td>\n",
       "    </tr>\n",
       "    <tr>\n",
       "      <th>Queso crema light Tregar 300 g.</th>\n",
       "      <td>1</td>\n",
       "      <td>161</td>\n",
       "    </tr>\n",
       "    <tr>\n",
       "      <th>Tarta Quiche Brocoli y Mozzarella Huertas del Pilar 300g</th>\n",
       "      <td>1</td>\n",
       "      <td>1088</td>\n",
       "    </tr>\n",
       "    <tr>\n",
       "      <th>Tarta Quiche Calabaza y Mozzarella Huertas del Pilar 300g</th>\n",
       "      <td>1</td>\n",
       "      <td>1086</td>\n",
       "    </tr>\n",
       "    <tr>\n",
       "      <th>Tarta Quiche Pollo y Calabaza Huertas del Pilar 300g</th>\n",
       "      <td>1</td>\n",
       "      <td>1087</td>\n",
       "    </tr>\n",
       "    <tr>\n",
       "      <th>Tarta Quiche Ratatouille Huertas del Pilar 300g</th>\n",
       "      <td>1</td>\n",
       "      <td>1085</td>\n",
       "    </tr>\n",
       "    <tr>\n",
       "      <th>Tarta Quiche de Pollo y Puerro Huertas del Pilar 300g</th>\n",
       "      <td>1</td>\n",
       "      <td>1089</td>\n",
       "    </tr>\n",
       "    <tr>\n",
       "      <th rowspan=\"16\" valign=\"top\">230772280</th>\n",
       "      <th>Acondicionador Brillo Vitaminado Fructis X 200 Cm3</th>\n",
       "      <td>1</td>\n",
       "      <td>234</td>\n",
       "    </tr>\n",
       "    <tr>\n",
       "      <th>Azúcar Ledesma Clásica 1 Kg.</th>\n",
       "      <td>1</td>\n",
       "      <td>5</td>\n",
       "    </tr>\n",
       "    <tr>\n",
       "      <th>Azúcar Mascabo Arcor 500 G</th>\n",
       "      <td>1</td>\n",
       "      <td>1431</td>\n",
       "    </tr>\n",
       "    <tr>\n",
       "      <th>Bastones de merluza Granja del Sol rebozados 300 g.</th>\n",
       "      <td>1</td>\n",
       "      <td>973</td>\n",
       "    </tr>\n",
       "    <tr>\n",
       "      <th>Bolsas Para Residuos Asurín Con Manija Ajustable 45 X 55 Cm. Rollo 20 U.</th>\n",
       "      <td>1</td>\n",
       "      <td>982</td>\n",
       "    </tr>\n",
       "    <tr>\n",
       "      <th>Galletitas Frutigran Salvado 500 G.</th>\n",
       "      <td>1</td>\n",
       "      <td>1126</td>\n",
       "    </tr>\n",
       "    <tr>\n",
       "      <th>Hebras Cuatro Quesos Light Finlandia Chef 150gr</th>\n",
       "      <td>1</td>\n",
       "      <td>756</td>\n",
       "    </tr>\n",
       "    <tr>\n",
       "      <th>Jabón En Barra Lux Flor De Vainilla 125 G.</th>\n",
       "      <td>1</td>\n",
       "      <td>104</td>\n",
       "    </tr>\n",
       "    <tr>\n",
       "      <th>Lomo De Cerdo Feteado Bocatti Horneado 70 G.</th>\n",
       "      <td>1</td>\n",
       "      <td>1210</td>\n",
       "    </tr>\n",
       "    <tr>\n",
       "      <th>Papas Mccain Horneables 600 gr</th>\n",
       "      <td>1</td>\n",
       "      <td>649</td>\n",
       "    </tr>\n",
       "    <tr>\n",
       "      <th>Supremitas de Pollo Granja Tres Arroyos 800 g.</th>\n",
       "      <td>1</td>\n",
       "      <td>1671</td>\n",
       "    </tr>\n",
       "    <tr>\n",
       "      <th>Tarta Quiche Brocoli y Mozzarella Huertas del Pilar 300g</th>\n",
       "      <td>1</td>\n",
       "      <td>1088</td>\n",
       "    </tr>\n",
       "    <tr>\n",
       "      <th>Tarta Quiche Calabaza y Mozzarella Huertas del Pilar 300g</th>\n",
       "      <td>1</td>\n",
       "      <td>1086</td>\n",
       "    </tr>\n",
       "    <tr>\n",
       "      <th>Tarta Quiche Pollo y Calabaza Huertas del Pilar 300g</th>\n",
       "      <td>1</td>\n",
       "      <td>1087</td>\n",
       "    </tr>\n",
       "    <tr>\n",
       "      <th>Tarta Quiche Ratatouille Huertas del Pilar 300g</th>\n",
       "      <td>1</td>\n",
       "      <td>1085</td>\n",
       "    </tr>\n",
       "    <tr>\n",
       "      <th>Tarta Quiche de Pollo y Puerro Huertas del Pilar 300g</th>\n",
       "      <td>1</td>\n",
       "      <td>1089</td>\n",
       "    </tr>\n",
       "  </tbody>\n",
       "</table>\n",
       "</div>"
      ],
      "text/plain": [
       "                                                              Ordered_Quantity  \\\n",
       "Order_ID  Product_Name                                                           \n",
       "227421127 Duraznos En Almibar En Mitades La Banda 850 Grs.                   1   \n",
       "          Galletitas Frutigran Salvado 500 G.                                1   \n",
       "          Galletitas Granix Granovita Limon 140 G                            1   \n",
       "          Hebras Cuatro Quesos Light Finlandia Chef 150gr                    1   \n",
       "          Huevo color Avicoper 12 un                                         1   \n",
       "          Jugo En Polvo Clight Naranja Dulce 7.5 G.                          5   \n",
       "          Leche Parcialmente Descremada Liviana La Sereni...                 1   \n",
       "          Limón X 1Kg                                                        1   \n",
       "          Manteca Milkaut 200 G.                                             1   \n",
       "          Queso Fundido Adler Light 100 G.                                   1   \n",
       "          Queso Por Salut Tregar Unidad Aprox. 450Grs.                       1   \n",
       "          Queso crema light Tregar 300 g.                                    1   \n",
       "          Tarta Quiche Brocoli y Mozzarella Huertas del P...                 1   \n",
       "          Tarta Quiche Calabaza y Mozzarella Huertas del ...                 1   \n",
       "          Tarta Quiche Pollo y Calabaza Huertas del Pilar...                 1   \n",
       "          Tarta Quiche Ratatouille Huertas del Pilar 300g                    1   \n",
       "          Tarta Quiche de Pollo y Puerro Huertas del Pila...                 1   \n",
       "230772280 Acondicionador Brillo Vitaminado Fructis X 200 Cm3                 1   \n",
       "          Azúcar Ledesma Clásica 1 Kg.                                       1   \n",
       "          Azúcar Mascabo Arcor 500 G                                         1   \n",
       "          Bastones de merluza Granja del Sol rebozados 30...                 1   \n",
       "          Bolsas Para Residuos Asurín Con Manija Ajustabl...                 1   \n",
       "          Galletitas Frutigran Salvado 500 G.                                1   \n",
       "          Hebras Cuatro Quesos Light Finlandia Chef 150gr                    1   \n",
       "          Jabón En Barra Lux Flor De Vainilla 125 G.                         1   \n",
       "          Lomo De Cerdo Feteado Bocatti Horneado 70 G.                       1   \n",
       "          Papas Mccain Horneables 600 gr                                     1   \n",
       "          Supremitas de Pollo Granja Tres Arroyos 800 g.                     1   \n",
       "          Tarta Quiche Brocoli y Mozzarella Huertas del P...                 1   \n",
       "          Tarta Quiche Calabaza y Mozzarella Huertas del ...                 1   \n",
       "          Tarta Quiche Pollo y Calabaza Huertas del Pilar...                 1   \n",
       "          Tarta Quiche Ratatouille Huertas del Pilar 300g                    1   \n",
       "          Tarta Quiche de Pollo y Puerro Huertas del Pila...                 1   \n",
       "\n",
       "                                                              SKU_ID_CODE  \n",
       "Order_ID  Product_Name                                                     \n",
       "227421127 Duraznos En Almibar En Mitades La Banda 850 Grs.            910  \n",
       "          Galletitas Frutigran Salvado 500 G.                        1126  \n",
       "          Galletitas Granix Granovita Limon 140 G                    1110  \n",
       "          Hebras Cuatro Quesos Light Finlandia Chef 150gr             756  \n",
       "          Huevo color Avicoper 12 un                                 1936  \n",
       "          Jugo En Polvo Clight Naranja Dulce 7.5 G.                    47  \n",
       "          Leche Parcialmente Descremada Liviana La Sereni...           48  \n",
       "          Limón X 1Kg                                                 653  \n",
       "          Manteca Milkaut 200 G.                                      819  \n",
       "          Queso Fundido Adler Light 100 G.                            783  \n",
       "          Queso Por Salut Tregar Unidad Aprox. 450Grs.               1175  \n",
       "          Queso crema light Tregar 300 g.                             161  \n",
       "          Tarta Quiche Brocoli y Mozzarella Huertas del P...         1088  \n",
       "          Tarta Quiche Calabaza y Mozzarella Huertas del ...         1086  \n",
       "          Tarta Quiche Pollo y Calabaza Huertas del Pilar...         1087  \n",
       "          Tarta Quiche Ratatouille Huertas del Pilar 300g            1085  \n",
       "          Tarta Quiche de Pollo y Puerro Huertas del Pila...         1089  \n",
       "230772280 Acondicionador Brillo Vitaminado Fructis X 200 Cm3          234  \n",
       "          Azúcar Ledesma Clásica 1 Kg.                                  5  \n",
       "          Azúcar Mascabo Arcor 500 G                                 1431  \n",
       "          Bastones de merluza Granja del Sol rebozados 30...          973  \n",
       "          Bolsas Para Residuos Asurín Con Manija Ajustabl...          982  \n",
       "          Galletitas Frutigran Salvado 500 G.                        1126  \n",
       "          Hebras Cuatro Quesos Light Finlandia Chef 150gr             756  \n",
       "          Jabón En Barra Lux Flor De Vainilla 125 G.                  104  \n",
       "          Lomo De Cerdo Feteado Bocatti Horneado 70 G.               1210  \n",
       "          Papas Mccain Horneables 600 gr                              649  \n",
       "          Supremitas de Pollo Granja Tres Arroyos 800 g.             1671  \n",
       "          Tarta Quiche Brocoli y Mozzarella Huertas del P...         1088  \n",
       "          Tarta Quiche Calabaza y Mozzarella Huertas del ...         1086  \n",
       "          Tarta Quiche Pollo y Calabaza Huertas del Pilar...         1087  \n",
       "          Tarta Quiche Ratatouille Huertas del Pilar 300g            1085  \n",
       "          Tarta Quiche de Pollo y Puerro Huertas del Pila...         1089  "
      ]
     },
     "execution_count": 71,
     "metadata": {},
     "output_type": "execute_result"
    }
   ],
   "source": [
    "clte = input(\"Ingrese número de cliente:\") #17367247\n",
    "df_cltes[df_cltes[\"User ID\"] == int(clte)].groupby([\"Order_ID\",\"Product_Name\"]).sum()"
   ]
  },
  {
   "cell_type": "markdown",
   "metadata": {},
   "source": [
    "# Guardo en pkl"
   ]
  },
  {
   "cell_type": "code",
   "execution_count": 72,
   "metadata": {},
   "outputs": [],
   "source": [
    "with open('modelo_implicit.pkl', 'wb') as m_imp:\n",
    "    pickle.dump(model, m_imp)"
   ]
  },
  {
   "cell_type": "code",
   "execution_count": 73,
   "metadata": {},
   "outputs": [],
   "source": [
    "with open('df_full.pkl', 'wb') as df_principal:\n",
    "    pickle.dump(df_full, df_principal)"
   ]
  },
  {
   "cell_type": "code",
   "execution_count": 74,
   "metadata": {},
   "outputs": [],
   "source": [
    "with open('user_items.pkl', 'wb') as user_items_matrix:\n",
    "    pickle.dump(user_items, user_items_matrix)"
   ]
  },
  {
   "cell_type": "markdown",
   "metadata": {},
   "source": [
    "## Modelo de Paper"
   ]
  },
  {
   "cell_type": "code",
   "execution_count": 75,
   "metadata": {},
   "outputs": [],
   "source": [
    "# Genero una listas de cada cliente, producto y cantidades y luego una matriz esparsa con todo lo anterior\n",
    "customers = list(np.sort(df_full_simple_grouped[\"User ID\"].unique())) # Get our unique customers\n",
    "products = list(df_full_simple_grouped.SKU_ID.unique()) # Get our unique products that were purchased\n",
    "quantity = list(df_full_simple_grouped.Ordered_Quantity) # All of our purchases\n",
    "#familia = list(df_full_simple_grouped.Familia)\n",
    "\n",
    "rows = df_full_simple_grouped[\"User ID\"].astype('category').cat.codes     #, categories = customers).cat.codes \n",
    "# Get the associated row indices\n",
    "cols = df_full_simple_grouped.SKU_ID.astype('category').cat.codes   #, categories = products).cat.codes \n",
    "# Get the associated column indices\n",
    "purchases_sparse = sparse.csr_matrix((quantity, (rows, cols)), shape=(len(customers), len(products)))"
   ]
  },
  {
   "cell_type": "code",
   "execution_count": 76,
   "metadata": {},
   "outputs": [
    {
     "name": "stdout",
     "output_type": "stream",
     "text": [
      "sparsity: 99.47 %\n",
      "El tope para la sparsidad en collaborative filtering es de 99,5%, quedamos con lo justo\n"
     ]
    }
   ],
   "source": [
    "# Evalúo la el nivel de la sparsidad (sparsity)\n",
    "matrix_size = purchases_sparse.shape[0]*purchases_sparse.shape[1] # Number of possible interactions in the matrix\n",
    "num_purchases = len(purchases_sparse.nonzero()[0]) # Number of items interacted with\n",
    "sparsity = 100*(1 - (num_purchases/matrix_size))\n",
    "print(\"sparsity:\",round(sparsity,2),\"%\")\n",
    "print (\"El tope para la sparsidad en collaborative filtering es de 99,5%, quedamos con lo justo\")"
   ]
  },
  {
   "cell_type": "code",
   "execution_count": 77,
   "metadata": {},
   "outputs": [],
   "source": [
    "product_train, product_test, product_users_altered = make_train(purchases_sparse, pct_test = 0.2)"
   ]
  },
  {
   "cell_type": "code",
   "execution_count": 78,
   "metadata": {},
   "outputs": [
    {
     "name": "stderr",
     "output_type": "stream",
     "text": [
      "WARNING:implicit:This method is deprecated. Please use the AlternatingLeastSquares class instead\n"
     ]
    },
    {
     "data": {
      "application/vnd.jupyter.widget-view+json": {
       "model_id": "d2aed7a1a324426384815761255cc4f1",
       "version_major": 2,
       "version_minor": 0
      },
      "text/plain": [
       "HBox(children=(HTML(value=''), FloatProgress(value=0.0, max=50.0), HTML(value='')))"
      ]
     },
     "metadata": {},
     "output_type": "display_data"
    },
    {
     "name": "stdout",
     "output_type": "stream",
     "text": [
      "\n"
     ]
    }
   ],
   "source": [
    "user_vecs, item_vecs = implicit.alternating_least_squares((product_train*15).astype('double'), \n",
    "                                                          factors=20, \n",
    "                                                          regularization = 0.1, \n",
    "                                                         iterations = 50)"
   ]
  },
  {
   "cell_type": "markdown",
   "metadata": {},
   "source": [
    "## Primer modelo considera órdenes, segundo modelo solo considera las compras de cada cliente en producto y cantidad independientemente de lo que se haya comprado en conjunto"
   ]
  },
  {
   "cell_type": "markdown",
   "metadata": {},
   "source": [
    "## Este modelo en lugar de instanciarse como modelo, se guarda los vectores de clientes y productos comprados"
   ]
  },
  {
   "cell_type": "code",
   "execution_count": 79,
   "metadata": {},
   "outputs": [],
   "source": [
    "# Se define una variable con los datos de los productos para hacer la búsqueda de los nombres\n",
    "item_lookup = df_orders[['SKU_ID', 'Product_Name']].drop_duplicates() # Only get unique item/description pair"
   ]
  },
  {
   "cell_type": "code",
   "execution_count": 80,
   "metadata": {},
   "outputs": [
    {
     "data": {
      "text/plain": [
       "(0.792, 0.813)"
      ]
     },
     "execution_count": 80,
     "metadata": {},
     "output_type": "execute_result"
    }
   ],
   "source": [
    "calc_mean_auc(product_train, product_users_altered, \n",
    "              [sparse.csr_matrix(user_vecs), sparse.csr_matrix(item_vecs.T)], product_test)\n",
    "# AUC for our recommender system"
   ]
  },
  {
   "cell_type": "code",
   "execution_count": 81,
   "metadata": {},
   "outputs": [],
   "source": [
    "# Se crea array de productos y clientes para hacer búsquedas simplificadas\n",
    "customers_arr = pd.unique(np.array(df_full_simple_grouped[\"User ID\"])) # Array of customer IDs from the ratings matrix\n",
    "products_arr = pd.unique(np.array(df_full_simple_grouped.SKU_ID)) # Array of product IDs from the ratings matrix"
   ]
  },
  {
   "cell_type": "code",
   "execution_count": 82,
   "metadata": {},
   "outputs": [],
   "source": [
    "def get_items_purchased(customer_id, mf_train, customers_list, products_list, item_lookup):\n",
    "    '''\n",
    "    This just tells me which items have been already purchased by a specific user in the training set. \n",
    "    \n",
    "    parameters: \n",
    "    \n",
    "    customer_id - Input the customer's id number that you want to see prior purchases of at least once\n",
    "    \n",
    "    mf_train - The initial ratings training set used (without weights applied)\n",
    "    \n",
    "    customers_list - The array of customers used in the ratings matrix\n",
    "    \n",
    "    products_list - The array of products used in the ratings matrix\n",
    "    \n",
    "    item_lookup - A simple pandas dataframe of the unique product ID/product descriptions available\n",
    "    \n",
    "    returns:\n",
    "    \n",
    "    A list of item IDs and item descriptions for a particular customer that were already purchased in the training set\n",
    "    '''\n",
    "    cust_ind = np.where(customers_list == customer_id)[0][0] # Returns the index row of our customer id\n",
    "    purchased_ind = mf_train[cust_ind,:].nonzero()[1] # Get column indices of purchased items\n",
    "    prod_codes = products_list[purchased_ind] # Get the stock codes for our purchased items\n",
    "    return item_lookup.loc[item_lookup.SKU_ID.isin(prod_codes)]"
   ]
  },
  {
   "cell_type": "code",
   "execution_count": 83,
   "metadata": {},
   "outputs": [],
   "source": [
    "def rec_items(customer_id, mf_train, user_vecs, item_vecs, customer_list, item_list, item_lookup, num_items = 10):\n",
    "    '''\n",
    "    This function will return the top recommended items to our users \n",
    "    \n",
    "    parameters:\n",
    "    \n",
    "    customer_id - Input the customer's id number that you want to get recommendations for\n",
    "    \n",
    "    mf_train - The training matrix you used for matrix factorization fitting\n",
    "    \n",
    "    user_vecs - the user vectors from your fitted matrix factorization\n",
    "    \n",
    "    item_vecs - the item vectors from your fitted matrix factorization\n",
    "    \n",
    "    customer_list - an array of the customer's ID numbers that make up the rows of your ratings matrix \n",
    "                    (in order of matrix)\n",
    "    \n",
    "    item_list - an array of the products that make up the columns of your ratings matrix\n",
    "                    (in order of matrix)\n",
    "    \n",
    "    item_lookup - A simple pandas dataframe of the unique product ID/product descriptions available\n",
    "    \n",
    "    num_items - The number of items you want to recommend in order of best recommendations. Default is 10. \n",
    "    \n",
    "    returns:\n",
    "    \n",
    "    - The top n recommendations chosen based on the user/item vectors for items never interacted with/purchased\n",
    "    '''\n",
    "    \n",
    "    cust_ind = np.where(customer_list == customer_id)[0][0] # Returns the index row of our customer id\n",
    "    pref_vec = mf_train[cust_ind,:].toarray() # Get the ratings from the training set ratings matrix\n",
    "    pref_vec = pref_vec.reshape(-1) + 1 # Add 1 to everything, so that items not purchased yet become equal to 1\n",
    "    pref_vec[pref_vec > 1] = 0 # Make everything already purchased zero\n",
    "    rec_vector = user_vecs[cust_ind,:].dot(item_vecs.T) # Get dot product of user vector and all item vectors\n",
    "    # Scale this recommendation vector between 0 and 1\n",
    "    min_max = MinMaxScaler()\n",
    "    rec_vector_scaled = min_max.fit_transform(rec_vector.reshape(-1,1))[:,0] \n",
    "    recommend_vector = pref_vec*rec_vector_scaled \n",
    "    # Items already purchased have their recommendation multiplied by zero\n",
    "    product_idx = np.argsort(recommend_vector)[::-1][:num_items] # Sort the indices of the items into order \n",
    "    # of best recommendations\n",
    "    rec_list = [] # start empty list to store items\n",
    "    for index in product_idx:\n",
    "        code = item_list[index]\n",
    "        rec_list.append([code, item_lookup.Product_Name.loc[item_lookup.SKU_ID == code].iloc[0]]) \n",
    "        # Append our descriptions to the list\n",
    "    codes = [item[0] for item in rec_list]\n",
    "    descriptions = [item[1] for item in rec_list]\n",
    "    final_frame = pd.DataFrame({'StockCode': codes, 'Description': descriptions}) # Create a dataframe \n",
    "    return final_frame[['StockCode', 'Description']] # Switch order of columns around"
   ]
  },
  {
   "cell_type": "code",
   "execution_count": 94,
   "metadata": {},
   "outputs": [],
   "source": [
    "def get_customer_purch_test():\n",
    "    user_id = int(input(\"Ingrese número de ciente:\"))\n",
    "    res = df_cltes_test[df_cltes_test[\"User ID\"]==user_id].groupby(by=[\"Product_Name\",\"User ID\"]).sum()\n",
    "    return res"
   ]
  },
  {
   "cell_type": "code",
   "execution_count": 85,
   "metadata": {},
   "outputs": [],
   "source": [
    "def get_customer_purch():\n",
    "    user_id = int(input(\"Ingrese número de ciente:\"))\n",
    "    res = df_cltes[df_cltes[\"User ID\"]==user_id].groupby(by=[\"Product_Name\"]).sum()\n",
    "    return res"
   ]
  },
  {
   "cell_type": "code",
   "execution_count": 86,
   "metadata": {},
   "outputs": [
    {
     "data": {
      "text/plain": [
       "array([ 422,  647,  936, 1310, 1414, 1499, 1623, 1669, 1889, 2203, 2407,\n",
       "       2623, 2660, 3017, 3615, 4256, 4395, 4495, 4504, 5191], dtype=int64)"
      ]
     },
     "execution_count": 86,
     "metadata": {},
     "output_type": "execute_result"
    }
   ],
   "source": [
    "customers_arr[:20]"
   ]
  },
  {
   "cell_type": "markdown",
   "metadata": {},
   "source": [
    "# Probamos las recomendaciones con el modelo inicial"
   ]
  },
  {
   "cell_type": "markdown",
   "metadata": {},
   "source": [
    "## Tenemos una serie de clientes dentro del set de test"
   ]
  },
  {
   "cell_type": "code",
   "execution_count": 87,
   "metadata": {},
   "outputs": [
    {
     "data": {
      "text/plain": [
       "array([17766784,  5472483,  1813466, 25472616, 26514435, 16091522,\n",
       "        3581030,  6337141,  6527116,  4580056,  3777079,  4685492,\n",
       "        5042860,  3552449,  7050854,  5990542,  6619960, 20346744,\n",
       "        4315340, 18719860,  6505868,   456721,  4687696,  5664218,\n",
       "       21140825, 16152298,  1299452,   841007,  2095553, 16208968],\n",
       "      dtype=int64)"
      ]
     },
     "execution_count": 87,
     "metadata": {},
     "output_type": "execute_result"
    }
   ],
   "source": [
    "df_cltes_test[\"User ID\"].unique()[:30]"
   ]
  },
  {
   "cell_type": "markdown",
   "metadata": {},
   "source": [
    "## Por ejemplo este cliente compró esta serie de artículos (listados 15)"
   ]
  },
  {
   "cell_type": "code",
   "execution_count": 95,
   "metadata": {},
   "outputs": [
    {
     "name": "stdin",
     "output_type": "stream",
     "text": [
      "Ingrese número de ciente: 18719860\n"
     ]
    },
    {
     "data": {
      "text/html": [
       "<div>\n",
       "<style scoped>\n",
       "    .dataframe tbody tr th:only-of-type {\n",
       "        vertical-align: middle;\n",
       "    }\n",
       "\n",
       "    .dataframe tbody tr th {\n",
       "        vertical-align: top;\n",
       "    }\n",
       "\n",
       "    .dataframe thead th {\n",
       "        text-align: right;\n",
       "    }\n",
       "</style>\n",
       "<table border=\"1\" class=\"dataframe\">\n",
       "  <thead>\n",
       "    <tr style=\"text-align: right;\">\n",
       "      <th></th>\n",
       "      <th>Order_ID</th>\n",
       "      <th>Ordered_Quantity</th>\n",
       "      <th>SKU_ID_CODE</th>\n",
       "    </tr>\n",
       "    <tr>\n",
       "      <th>Product_Name</th>\n",
       "      <th></th>\n",
       "      <th></th>\n",
       "      <th></th>\n",
       "    </tr>\n",
       "  </thead>\n",
       "  <tbody>\n",
       "    <tr>\n",
       "      <th>Leberwurst Calchaqui 200 g.</th>\n",
       "      <td>735805269</td>\n",
       "      <td>3</td>\n",
       "      <td>3621</td>\n",
       "    </tr>\n",
       "    <tr>\n",
       "      <th>Galletitas Pepitos 118 G.</th>\n",
       "      <td>247586383</td>\n",
       "      <td>3</td>\n",
       "      <td>711</td>\n",
       "    </tr>\n",
       "    <tr>\n",
       "      <th>Papel Higiénico Hoja Simple Elegante Aloe Vera 6 X 30 M.</th>\n",
       "      <td>488218886</td>\n",
       "      <td>2</td>\n",
       "      <td>110</td>\n",
       "    </tr>\n",
       "    <tr>\n",
       "      <th>Fajitas Tia Maruca Clásicas 150 g</th>\n",
       "      <td>247586383</td>\n",
       "      <td>2</td>\n",
       "      <td>2190</td>\n",
       "    </tr>\n",
       "    <tr>\n",
       "      <th>Queso Fundido Adler Queso Azul 100 G.</th>\n",
       "      <td>488214521</td>\n",
       "      <td>2</td>\n",
       "      <td>1568</td>\n",
       "    </tr>\n",
       "    <tr>\n",
       "      <th>Gaseosa Schweppes Pomelo Sin Azúcar 1.5 L.</th>\n",
       "      <td>240628138</td>\n",
       "      <td>2</td>\n",
       "      <td>211</td>\n",
       "    </tr>\n",
       "    <tr>\n",
       "      <th>Pasta Dental Colgate Máxima Protección Anticaries 90 G.</th>\n",
       "      <td>240628138</td>\n",
       "      <td>1</td>\n",
       "      <td>268</td>\n",
       "    </tr>\n",
       "    <tr>\n",
       "      <th>Protectores Diarios Ladysoft Clásico Con Gel 56 U.</th>\n",
       "      <td>240628138</td>\n",
       "      <td>1</td>\n",
       "      <td>1500</td>\n",
       "    </tr>\n",
       "    <tr>\n",
       "      <th>Queso Crematto Milkaut 290 G.</th>\n",
       "      <td>247586383</td>\n",
       "      <td>1</td>\n",
       "      <td>822</td>\n",
       "    </tr>\n",
       "    <tr>\n",
       "      <th>Queso Cremoso Tregar Unidad Aprox. 450Grs.</th>\n",
       "      <td>247586383</td>\n",
       "      <td>1</td>\n",
       "      <td>1180</td>\n",
       "    </tr>\n",
       "    <tr>\n",
       "      <th>Queso Port Salut Light Sin Sal Tregar 420grs</th>\n",
       "      <td>247586383</td>\n",
       "      <td>1</td>\n",
       "      <td>1177</td>\n",
       "    </tr>\n",
       "    <tr>\n",
       "      <th>Aceite de oliva Lira lata 500 cc.</th>\n",
       "      <td>247586383</td>\n",
       "      <td>1</td>\n",
       "      <td>974</td>\n",
       "    </tr>\n",
       "    <tr>\n",
       "      <th>Queso untable Adler pic a dip cheddar y bacon 190 g.</th>\n",
       "      <td>247586383</td>\n",
       "      <td>1</td>\n",
       "      <td>766</td>\n",
       "    </tr>\n",
       "    <tr>\n",
       "      <th>Pan integral Bimbo 350 g.</th>\n",
       "      <td>240628138</td>\n",
       "      <td>1</td>\n",
       "      <td>952</td>\n",
       "    </tr>\n",
       "    <tr>\n",
       "      <th>Salame de milán La Comarca 180 g.</th>\n",
       "      <td>247590748</td>\n",
       "      <td>1</td>\n",
       "      <td>1668</td>\n",
       "    </tr>\n",
       "  </tbody>\n",
       "</table>\n",
       "</div>"
      ],
      "text/plain": [
       "                                                     Order_ID  \\\n",
       "Product_Name                                                    \n",
       "Leberwurst Calchaqui 200 g.                         735805269   \n",
       "Galletitas Pepitos 118 G.                           247586383   \n",
       "Papel Higiénico Hoja Simple Elegante Aloe Vera ...  488218886   \n",
       "Fajitas Tia Maruca Clásicas 150 g                   247586383   \n",
       "Queso Fundido Adler Queso Azul 100 G.               488214521   \n",
       "Gaseosa Schweppes Pomelo Sin Azúcar 1.5 L.          240628138   \n",
       "Pasta Dental Colgate Máxima Protección Anticari...  240628138   \n",
       "Protectores Diarios Ladysoft Clásico Con Gel 56 U.  240628138   \n",
       "Queso Crematto Milkaut 290 G.                       247586383   \n",
       "Queso Cremoso Tregar Unidad Aprox. 450Grs.          247586383   \n",
       "Queso Port Salut Light Sin Sal Tregar 420grs        247586383   \n",
       "Aceite de oliva Lira lata 500 cc.                   247586383   \n",
       "Queso untable Adler pic a dip cheddar y bacon 1...  247586383   \n",
       "Pan integral Bimbo 350 g.                           240628138   \n",
       "Salame de milán La Comarca 180 g.                   247590748   \n",
       "\n",
       "                                                    Ordered_Quantity  \\\n",
       "Product_Name                                                           \n",
       "Leberwurst Calchaqui 200 g.                                        3   \n",
       "Galletitas Pepitos 118 G.                                          3   \n",
       "Papel Higiénico Hoja Simple Elegante Aloe Vera ...                 2   \n",
       "Fajitas Tia Maruca Clásicas 150 g                                  2   \n",
       "Queso Fundido Adler Queso Azul 100 G.                              2   \n",
       "Gaseosa Schweppes Pomelo Sin Azúcar 1.5 L.                         2   \n",
       "Pasta Dental Colgate Máxima Protección Anticari...                 1   \n",
       "Protectores Diarios Ladysoft Clásico Con Gel 56 U.                 1   \n",
       "Queso Crematto Milkaut 290 G.                                      1   \n",
       "Queso Cremoso Tregar Unidad Aprox. 450Grs.                         1   \n",
       "Queso Port Salut Light Sin Sal Tregar 420grs                       1   \n",
       "Aceite de oliva Lira lata 500 cc.                                  1   \n",
       "Queso untable Adler pic a dip cheddar y bacon 1...                 1   \n",
       "Pan integral Bimbo 350 g.                                          1   \n",
       "Salame de milán La Comarca 180 g.                                  1   \n",
       "\n",
       "                                                    SKU_ID_CODE  \n",
       "Product_Name                                                     \n",
       "Leberwurst Calchaqui 200 g.                                3621  \n",
       "Galletitas Pepitos 118 G.                                   711  \n",
       "Papel Higiénico Hoja Simple Elegante Aloe Vera ...          110  \n",
       "Fajitas Tia Maruca Clásicas 150 g                          2190  \n",
       "Queso Fundido Adler Queso Azul 100 G.                      1568  \n",
       "Gaseosa Schweppes Pomelo Sin Azúcar 1.5 L.                  211  \n",
       "Pasta Dental Colgate Máxima Protección Anticari...          268  \n",
       "Protectores Diarios Ladysoft Clásico Con Gel 56 U.         1500  \n",
       "Queso Crematto Milkaut 290 G.                               822  \n",
       "Queso Cremoso Tregar Unidad Aprox. 450Grs.                 1180  \n",
       "Queso Port Salut Light Sin Sal Tregar 420grs               1177  \n",
       "Aceite de oliva Lira lata 500 cc.                           974  \n",
       "Queso untable Adler pic a dip cheddar y bacon 1...          766  \n",
       "Pan integral Bimbo 350 g.                                   952  \n",
       "Salame de milán La Comarca 180 g.                          1668  "
      ]
     },
     "execution_count": 95,
     "metadata": {},
     "output_type": "execute_result"
    }
   ],
   "source": [
    "get_customer_purch().sort_values(\"Ordered_Quantity\", ascending=False)[:15]"
   ]
  },
  {
   "cell_type": "code",
   "execution_count": 89,
   "metadata": {},
   "outputs": [
    {
     "name": "stdin",
     "output_type": "stream",
     "text": [
      "Elija el nro de cliente: 18719860\n",
      "Elija la cantidad de sugerencias: 7\n"
     ]
    },
    {
     "name": "stdout",
     "output_type": "stream",
     "text": [
      "_______________\n",
      "Para el cliente especificado se encontraron los siguientes 7 productos recomendados:\n",
      "\n",
      "Gaseosa Sprite lima limón 2.25 l.  con un  28.92 %  de probable aceptación.\n",
      "Hamburguesas de Carne Vacuna Clasica Paty Caja 4Un 320Grs.  con un  24.52 %  de probable aceptación.\n",
      "Jabón En Barra Dove Original 90 G.  con un  23.86 %  de probable aceptación.\n",
      "Gaseosa Sprite sin azúcares lima limón 2.25 l.  con un  23.67 %  de probable aceptación.\n",
      "Azúcar Chango Tipo A 1 Kg.  con un  23.46 %  de probable aceptación.\n",
      "Gaseosa Pepsi Cola 2.25 L  con un  22.15 %  de probable aceptación.\n",
      "Queso Holanda Tregar Unidad Aprox. 300Grs  con un  20.37 %  de probable aceptación.\n"
     ]
    }
   ],
   "source": [
    "recommend() #16999, 61726"
   ]
  },
  {
   "cell_type": "markdown",
   "metadata": {},
   "source": [
    "## Verificamos en test set los productos que terminó comprando el resto de noviembre"
   ]
  },
  {
   "cell_type": "code",
   "execution_count": 97,
   "metadata": {},
   "outputs": [
    {
     "name": "stdin",
     "output_type": "stream",
     "text": [
      "Ingrese número de ciente: 18719860\n"
     ]
    },
    {
     "data": {
      "text/html": [
       "<div>\n",
       "<style scoped>\n",
       "    .dataframe tbody tr th:only-of-type {\n",
       "        vertical-align: middle;\n",
       "    }\n",
       "\n",
       "    .dataframe tbody tr th {\n",
       "        vertical-align: top;\n",
       "    }\n",
       "\n",
       "    .dataframe thead th {\n",
       "        text-align: right;\n",
       "    }\n",
       "</style>\n",
       "<table border=\"1\" class=\"dataframe\">\n",
       "  <thead>\n",
       "    <tr style=\"text-align: right;\">\n",
       "      <th></th>\n",
       "      <th></th>\n",
       "      <th>SKU_ID</th>\n",
       "      <th>Order_ID</th>\n",
       "      <th>Ordered_Quantity</th>\n",
       "    </tr>\n",
       "    <tr>\n",
       "      <th>Product_Name</th>\n",
       "      <th>User ID</th>\n",
       "      <th></th>\n",
       "      <th></th>\n",
       "      <th></th>\n",
       "    </tr>\n",
       "  </thead>\n",
       "  <tbody>\n",
       "    <tr>\n",
       "      <th>Nuggets De Pollo Granja Tres Arroyos 400 Grs</th>\n",
       "      <th>18719860</th>\n",
       "      <td>38028602</td>\n",
       "      <td>529013832</td>\n",
       "      <td>2</td>\n",
       "    </tr>\n",
       "    <tr>\n",
       "      <th>Capelletini Giacomo De Verdura Fortificado 500 G.</th>\n",
       "      <th>18719860</th>\n",
       "      <td>16037187</td>\n",
       "      <td>264506916</td>\n",
       "      <td>1</td>\n",
       "    </tr>\n",
       "    <tr>\n",
       "      <th>Cerveza Andes Origen ROJA Lata 473ml</th>\n",
       "      <th>18719860</th>\n",
       "      <td>16730558</td>\n",
       "      <td>264506916</td>\n",
       "      <td>1</td>\n",
       "    </tr>\n",
       "    <tr>\n",
       "      <th>Cerveza Patagonia AMBER LAGER Lata 473ml</th>\n",
       "      <th>18719860</th>\n",
       "      <td>16730552</td>\n",
       "      <td>264506916</td>\n",
       "      <td>1</td>\n",
       "    </tr>\n",
       "    <tr>\n",
       "      <th>Cerveza Patagonia BOHEMIAN PILSENER Botella 730ml</th>\n",
       "      <th>18719860</th>\n",
       "      <td>16730549</td>\n",
       "      <td>264506916</td>\n",
       "      <td>1</td>\n",
       "    </tr>\n",
       "    <tr>\n",
       "      <th>Cerveza Patagonia KÜNÉ Lata 473ml</th>\n",
       "      <th>18719860</th>\n",
       "      <td>16730553</td>\n",
       "      <td>264506916</td>\n",
       "      <td>1</td>\n",
       "    </tr>\n",
       "    <tr>\n",
       "      <th>Gaseosa Schweppes Pomelo Sin Azúcar 1.5 L.</th>\n",
       "      <th>18719860</th>\n",
       "      <td>15791700</td>\n",
       "      <td>264506916</td>\n",
       "      <td>1</td>\n",
       "    </tr>\n",
       "    <tr>\n",
       "      <th>Gaseosa Schweppes tónica 1.5 l.</th>\n",
       "      <th>18719860</th>\n",
       "      <td>15791699</td>\n",
       "      <td>264506916</td>\n",
       "      <td>1</td>\n",
       "    </tr>\n",
       "    <tr>\n",
       "      <th>Huevos color Avicoper 6 u.</th>\n",
       "      <th>18719860</th>\n",
       "      <td>20404766</td>\n",
       "      <td>264506916</td>\n",
       "      <td>1</td>\n",
       "    </tr>\n",
       "    <tr>\n",
       "      <th>Leche Larga Vida Descremada Milkaut 1 L.</th>\n",
       "      <th>18719860</th>\n",
       "      <td>16730452</td>\n",
       "      <td>264506916</td>\n",
       "      <td>1</td>\n",
       "    </tr>\n",
       "    <tr>\n",
       "      <th>Mozzarella La Serenisima 220gr</th>\n",
       "      <th>18719860</th>\n",
       "      <td>16087209</td>\n",
       "      <td>264506916</td>\n",
       "      <td>1</td>\n",
       "    </tr>\n",
       "    <tr>\n",
       "      <th>Porotos Pallares Remojados Tetra Recart La Banda 340 Grs.</th>\n",
       "      <th>18719860</th>\n",
       "      <td>16903484</td>\n",
       "      <td>264506916</td>\n",
       "      <td>1</td>\n",
       "    </tr>\n",
       "    <tr>\n",
       "      <th>Queso Azul Santa Rosa 140 G.</th>\n",
       "      <th>18719860</th>\n",
       "      <td>16730477</td>\n",
       "      <td>264506916</td>\n",
       "      <td>1</td>\n",
       "    </tr>\n",
       "    <tr>\n",
       "      <th>Salsa Pizza Arcor 340 G.</th>\n",
       "      <th>18719860</th>\n",
       "      <td>18977919</td>\n",
       "      <td>264506916</td>\n",
       "      <td>1</td>\n",
       "    </tr>\n",
       "    <tr>\n",
       "      <th>Yerba Playadito 500 G</th>\n",
       "      <th>18719860</th>\n",
       "      <td>15500924</td>\n",
       "      <td>264506916</td>\n",
       "      <td>1</td>\n",
       "    </tr>\n",
       "  </tbody>\n",
       "</table>\n",
       "</div>"
      ],
      "text/plain": [
       "                                                               SKU_ID  \\\n",
       "Product_Name                                       User ID              \n",
       "Nuggets De Pollo Granja Tres Arroyos 400 Grs       18719860  38028602   \n",
       "Capelletini Giacomo De Verdura Fortificado 500 G.  18719860  16037187   \n",
       "Cerveza Andes Origen ROJA Lata 473ml               18719860  16730558   \n",
       "Cerveza Patagonia AMBER LAGER Lata 473ml           18719860  16730552   \n",
       "Cerveza Patagonia BOHEMIAN PILSENER Botella 730ml  18719860  16730549   \n",
       "Cerveza Patagonia KÜNÉ Lata 473ml                  18719860  16730553   \n",
       "Gaseosa Schweppes Pomelo Sin Azúcar 1.5 L.         18719860  15791700   \n",
       "Gaseosa Schweppes tónica 1.5 l.                    18719860  15791699   \n",
       "Huevos color Avicoper 6 u.                         18719860  20404766   \n",
       "Leche Larga Vida Descremada Milkaut 1 L.           18719860  16730452   \n",
       "Mozzarella La Serenisima 220gr                     18719860  16087209   \n",
       "Porotos Pallares Remojados Tetra Recart La Band... 18719860  16903484   \n",
       "Queso Azul Santa Rosa 140 G.                       18719860  16730477   \n",
       "Salsa Pizza Arcor 340 G.                           18719860  18977919   \n",
       "Yerba Playadito 500 G                              18719860  15500924   \n",
       "\n",
       "                                                              Order_ID  \\\n",
       "Product_Name                                       User ID               \n",
       "Nuggets De Pollo Granja Tres Arroyos 400 Grs       18719860  529013832   \n",
       "Capelletini Giacomo De Verdura Fortificado 500 G.  18719860  264506916   \n",
       "Cerveza Andes Origen ROJA Lata 473ml               18719860  264506916   \n",
       "Cerveza Patagonia AMBER LAGER Lata 473ml           18719860  264506916   \n",
       "Cerveza Patagonia BOHEMIAN PILSENER Botella 730ml  18719860  264506916   \n",
       "Cerveza Patagonia KÜNÉ Lata 473ml                  18719860  264506916   \n",
       "Gaseosa Schweppes Pomelo Sin Azúcar 1.5 L.         18719860  264506916   \n",
       "Gaseosa Schweppes tónica 1.5 l.                    18719860  264506916   \n",
       "Huevos color Avicoper 6 u.                         18719860  264506916   \n",
       "Leche Larga Vida Descremada Milkaut 1 L.           18719860  264506916   \n",
       "Mozzarella La Serenisima 220gr                     18719860  264506916   \n",
       "Porotos Pallares Remojados Tetra Recart La Band... 18719860  264506916   \n",
       "Queso Azul Santa Rosa 140 G.                       18719860  264506916   \n",
       "Salsa Pizza Arcor 340 G.                           18719860  264506916   \n",
       "Yerba Playadito 500 G                              18719860  264506916   \n",
       "\n",
       "                                                             Ordered_Quantity  \n",
       "Product_Name                                       User ID                     \n",
       "Nuggets De Pollo Granja Tres Arroyos 400 Grs       18719860                 2  \n",
       "Capelletini Giacomo De Verdura Fortificado 500 G.  18719860                 1  \n",
       "Cerveza Andes Origen ROJA Lata 473ml               18719860                 1  \n",
       "Cerveza Patagonia AMBER LAGER Lata 473ml           18719860                 1  \n",
       "Cerveza Patagonia BOHEMIAN PILSENER Botella 730ml  18719860                 1  \n",
       "Cerveza Patagonia KÜNÉ Lata 473ml                  18719860                 1  \n",
       "Gaseosa Schweppes Pomelo Sin Azúcar 1.5 L.         18719860                 1  \n",
       "Gaseosa Schweppes tónica 1.5 l.                    18719860                 1  \n",
       "Huevos color Avicoper 6 u.                         18719860                 1  \n",
       "Leche Larga Vida Descremada Milkaut 1 L.           18719860                 1  \n",
       "Mozzarella La Serenisima 220gr                     18719860                 1  \n",
       "Porotos Pallares Remojados Tetra Recart La Band... 18719860                 1  \n",
       "Queso Azul Santa Rosa 140 G.                       18719860                 1  \n",
       "Salsa Pizza Arcor 340 G.                           18719860                 1  \n",
       "Yerba Playadito 500 G                              18719860                 1  "
      ]
     },
     "execution_count": 97,
     "metadata": {},
     "output_type": "execute_result"
    }
   ],
   "source": [
    "get_customer_purch_test().sort_values(\"Ordered_Quantity\", ascending=False)[:15]"
   ]
  },
  {
   "cell_type": "markdown",
   "metadata": {},
   "source": [
    "## A otro cliente se le recomiendan los siguientes"
   ]
  },
  {
   "cell_type": "code",
   "execution_count": 115,
   "metadata": {},
   "outputs": [
    {
     "name": "stdin",
     "output_type": "stream",
     "text": [
      "Elija el nro de cliente: 371008\n",
      "Elija la cantidad de sugerencias: 10\n"
     ]
    },
    {
     "name": "stdout",
     "output_type": "stream",
     "text": [
      "_______________\n",
      "Para el cliente especificado se encontraron los siguientes 10 productos recomendados:\n",
      "\n",
      "Agua Mineralizada Sin Gas Smart Water 1.5 L.  con un  48.43 %  de probable aceptación.\n",
      "Gaseosa Pepsi black 2.25 l.  con un  46.55 %  de probable aceptación.\n",
      "Tomate Redondo X 1Kg  con un  44.52 %  de probable aceptación.\n",
      "Naranja X 1Kg  con un  44.48 %  de probable aceptación.\n",
      "Huevo blanco Avicoper 12 un  con un  36.07 %  de probable aceptación.\n",
      "Galletitas Oreo 117 G.  con un  31.06 %  de probable aceptación.\n",
      "Pan De Mesa Lactal Salvado 630 G.  con un  30.52 %  de probable aceptación.\n",
      "Ajo X 1 Unidad  con un  28.14 %  de probable aceptación.\n",
      "Mandarina X 1Kg  con un  27.72 %  de probable aceptación.\n",
      "Pimiento Rojo 2 Unidades  con un  27.65 %  de probable aceptación.\n"
     ]
    }
   ],
   "source": [
    "recommend() #18037034"
   ]
  },
  {
   "cell_type": "code",
   "execution_count": 105,
   "metadata": {},
   "outputs": [
    {
     "name": "stdin",
     "output_type": "stream",
     "text": [
      "Ingrese número de ciente: 16152298\n"
     ]
    },
    {
     "data": {
      "text/html": [
       "<div>\n",
       "<style scoped>\n",
       "    .dataframe tbody tr th:only-of-type {\n",
       "        vertical-align: middle;\n",
       "    }\n",
       "\n",
       "    .dataframe tbody tr th {\n",
       "        vertical-align: top;\n",
       "    }\n",
       "\n",
       "    .dataframe thead th {\n",
       "        text-align: right;\n",
       "    }\n",
       "</style>\n",
       "<table border=\"1\" class=\"dataframe\">\n",
       "  <thead>\n",
       "    <tr style=\"text-align: right;\">\n",
       "      <th></th>\n",
       "      <th></th>\n",
       "      <th>SKU_ID</th>\n",
       "      <th>Order_ID</th>\n",
       "      <th>Ordered_Quantity</th>\n",
       "    </tr>\n",
       "    <tr>\n",
       "      <th>Product_Name</th>\n",
       "      <th>User ID</th>\n",
       "      <th></th>\n",
       "      <th></th>\n",
       "      <th></th>\n",
       "    </tr>\n",
       "  </thead>\n",
       "  <tbody>\n",
       "    <tr>\n",
       "      <th>Jugo En Polvo Tang Naranja Dulce 18 G.</th>\n",
       "      <th>16152298</th>\n",
       "      <td>15607216</td>\n",
       "      <td>264508649</td>\n",
       "      <td>3</td>\n",
       "    </tr>\n",
       "    <tr>\n",
       "      <th>Galletas De Arroz Arrocitas 3 Cereales 101 G.</th>\n",
       "      <th>16152298</th>\n",
       "      <td>16683319</td>\n",
       "      <td>264508649</td>\n",
       "      <td>2</td>\n",
       "    </tr>\n",
       "    <tr>\n",
       "      <th>Jugo En Polvo Arcor Multifruta 20 G.</th>\n",
       "      <th>16152298</th>\n",
       "      <td>37955760</td>\n",
       "      <td>529017298</td>\n",
       "      <td>2</td>\n",
       "    </tr>\n",
       "    <tr>\n",
       "      <th>Bizcochos De Arroz Gallo Snacks Dulces 100 G.</th>\n",
       "      <th>16152298</th>\n",
       "      <td>15816897</td>\n",
       "      <td>264508649</td>\n",
       "      <td>1</td>\n",
       "    </tr>\n",
       "    <tr>\n",
       "      <th>Bondiola feteada La Comarca 120 g.</th>\n",
       "      <th>16152298</th>\n",
       "      <td>19014241</td>\n",
       "      <td>264508649</td>\n",
       "      <td>1</td>\n",
       "    </tr>\n",
       "    <tr>\n",
       "      <th>Galletitas Crackers Granix Sin Sal 3 X 185 G.</th>\n",
       "      <th>16152298</th>\n",
       "      <td>17315136</td>\n",
       "      <td>264508649</td>\n",
       "      <td>1</td>\n",
       "    </tr>\n",
       "    <tr>\n",
       "      <th>Galletitas Frutigran Semillas De Chia Y Lino 240 G.</th>\n",
       "      <th>16152298</th>\n",
       "      <td>17315125</td>\n",
       "      <td>264508649</td>\n",
       "      <td>1</td>\n",
       "    </tr>\n",
       "    <tr>\n",
       "      <th>Galletitas Granix Frutigran Granola Coco Y Almendras 145 G</th>\n",
       "      <th>16152298</th>\n",
       "      <td>17315106</td>\n",
       "      <td>264508649</td>\n",
       "      <td>1</td>\n",
       "    </tr>\n",
       "    <tr>\n",
       "      <th>Galletitas Variedad Surtidas Terrabusi 400 G.</th>\n",
       "      <th>16152298</th>\n",
       "      <td>16683343</td>\n",
       "      <td>264508649</td>\n",
       "      <td>1</td>\n",
       "    </tr>\n",
       "    <tr>\n",
       "      <th>Jamón cocido feteado La Comarca 200 g.</th>\n",
       "      <th>16152298</th>\n",
       "      <td>19014249</td>\n",
       "      <td>264508649</td>\n",
       "      <td>1</td>\n",
       "    </tr>\n",
       "    <tr>\n",
       "      <th>Jugo En Polvo Arcor Naranja 20 G.</th>\n",
       "      <th>16152298</th>\n",
       "      <td>18977879</td>\n",
       "      <td>264508649</td>\n",
       "      <td>1</td>\n",
       "    </tr>\n",
       "    <tr>\n",
       "      <th>Pan Dulce Don Satur Sin Frutas 400G</th>\n",
       "      <th>16152298</th>\n",
       "      <td>28334941</td>\n",
       "      <td>264508649</td>\n",
       "      <td>1</td>\n",
       "    </tr>\n",
       "    <tr>\n",
       "      <th>Queso Danbo Light Feteado Finlandia Chef 150gr</th>\n",
       "      <th>16152298</th>\n",
       "      <td>25703614</td>\n",
       "      <td>264508649</td>\n",
       "      <td>1</td>\n",
       "    </tr>\n",
       "    <tr>\n",
       "      <th>Salchicha Granja Iris Viena Paquete 6 Unidades, 225 G</th>\n",
       "      <th>16152298</th>\n",
       "      <td>16730424</td>\n",
       "      <td>264508649</td>\n",
       "      <td>1</td>\n",
       "    </tr>\n",
       "    <tr>\n",
       "      <th>Tomate Cherry X 500 g</th>\n",
       "      <th>16152298</th>\n",
       "      <td>16405483</td>\n",
       "      <td>264508649</td>\n",
       "      <td>1</td>\n",
       "    </tr>\n",
       "  </tbody>\n",
       "</table>\n",
       "</div>"
      ],
      "text/plain": [
       "                                                               SKU_ID  \\\n",
       "Product_Name                                       User ID              \n",
       "Jugo En Polvo Tang Naranja Dulce 18 G.             16152298  15607216   \n",
       "Galletas De Arroz Arrocitas 3 Cereales 101 G.      16152298  16683319   \n",
       "Jugo En Polvo Arcor Multifruta 20 G.               16152298  37955760   \n",
       "Bizcochos De Arroz Gallo Snacks Dulces 100 G.      16152298  15816897   \n",
       "Bondiola feteada La Comarca 120 g.                 16152298  19014241   \n",
       "Galletitas Crackers Granix Sin Sal 3 X 185 G.      16152298  17315136   \n",
       "Galletitas Frutigran Semillas De Chia Y Lino 24... 16152298  17315125   \n",
       "Galletitas Granix Frutigran Granola Coco Y Alme... 16152298  17315106   \n",
       "Galletitas Variedad Surtidas Terrabusi 400 G.      16152298  16683343   \n",
       "Jamón cocido feteado La Comarca 200 g.             16152298  19014249   \n",
       "Jugo En Polvo Arcor Naranja 20 G.                  16152298  18977879   \n",
       "Pan Dulce Don Satur Sin Frutas 400G                16152298  28334941   \n",
       "Queso Danbo Light Feteado Finlandia Chef 150gr     16152298  25703614   \n",
       "Salchicha Granja Iris Viena Paquete 6 Unidades,... 16152298  16730424   \n",
       "Tomate Cherry X 500 g                              16152298  16405483   \n",
       "\n",
       "                                                              Order_ID  \\\n",
       "Product_Name                                       User ID               \n",
       "Jugo En Polvo Tang Naranja Dulce 18 G.             16152298  264508649   \n",
       "Galletas De Arroz Arrocitas 3 Cereales 101 G.      16152298  264508649   \n",
       "Jugo En Polvo Arcor Multifruta 20 G.               16152298  529017298   \n",
       "Bizcochos De Arroz Gallo Snacks Dulces 100 G.      16152298  264508649   \n",
       "Bondiola feteada La Comarca 120 g.                 16152298  264508649   \n",
       "Galletitas Crackers Granix Sin Sal 3 X 185 G.      16152298  264508649   \n",
       "Galletitas Frutigran Semillas De Chia Y Lino 24... 16152298  264508649   \n",
       "Galletitas Granix Frutigran Granola Coco Y Alme... 16152298  264508649   \n",
       "Galletitas Variedad Surtidas Terrabusi 400 G.      16152298  264508649   \n",
       "Jamón cocido feteado La Comarca 200 g.             16152298  264508649   \n",
       "Jugo En Polvo Arcor Naranja 20 G.                  16152298  264508649   \n",
       "Pan Dulce Don Satur Sin Frutas 400G                16152298  264508649   \n",
       "Queso Danbo Light Feteado Finlandia Chef 150gr     16152298  264508649   \n",
       "Salchicha Granja Iris Viena Paquete 6 Unidades,... 16152298  264508649   \n",
       "Tomate Cherry X 500 g                              16152298  264508649   \n",
       "\n",
       "                                                             Ordered_Quantity  \n",
       "Product_Name                                       User ID                     \n",
       "Jugo En Polvo Tang Naranja Dulce 18 G.             16152298                 3  \n",
       "Galletas De Arroz Arrocitas 3 Cereales 101 G.      16152298                 2  \n",
       "Jugo En Polvo Arcor Multifruta 20 G.               16152298                 2  \n",
       "Bizcochos De Arroz Gallo Snacks Dulces 100 G.      16152298                 1  \n",
       "Bondiola feteada La Comarca 120 g.                 16152298                 1  \n",
       "Galletitas Crackers Granix Sin Sal 3 X 185 G.      16152298                 1  \n",
       "Galletitas Frutigran Semillas De Chia Y Lino 24... 16152298                 1  \n",
       "Galletitas Granix Frutigran Granola Coco Y Alme... 16152298                 1  \n",
       "Galletitas Variedad Surtidas Terrabusi 400 G.      16152298                 1  \n",
       "Jamón cocido feteado La Comarca 200 g.             16152298                 1  \n",
       "Jugo En Polvo Arcor Naranja 20 G.                  16152298                 1  \n",
       "Pan Dulce Don Satur Sin Frutas 400G                16152298                 1  \n",
       "Queso Danbo Light Feteado Finlandia Chef 150gr     16152298                 1  \n",
       "Salchicha Granja Iris Viena Paquete 6 Unidades,... 16152298                 1  \n",
       "Tomate Cherry X 500 g                              16152298                 1  "
      ]
     },
     "execution_count": 105,
     "metadata": {},
     "output_type": "execute_result"
    }
   ],
   "source": [
    "get_customer_purch_test().sort_values(\"Ordered_Quantity\", ascending=False)[:15]"
   ]
  },
  {
   "cell_type": "markdown",
   "metadata": {},
   "source": [
    "## Verificamos usuarios similares"
   ]
  },
  {
   "cell_type": "code",
   "execution_count": 108,
   "metadata": {},
   "outputs": [],
   "source": [
    "def sim_users_code():\n",
    "    clte = input(\"Ingrese el número de cliente a evaluar:\")\n",
    "    clte_mod = df_full.User_ID_CODE.loc[df_full[\"User ID\"] == int(clte)].iloc[0]\n",
    "    print(\"Los 3 clientes más similares son:\")\n",
    "    sim_user_list = [x[0] for x in model.similar_users(clte_mod,4)[1:]]\n",
    "    return [df_full[\"User ID\"].loc[df_full[\"User_ID_CODE\"] == int(x)].iloc[0] for x in sim_user_list]"
   ]
  },
  {
   "cell_type": "code",
   "execution_count": 117,
   "metadata": {},
   "outputs": [
    {
     "data": {
      "text/plain": [
       "[17367247, 18819033, 16938231, 877052, 15263554, 3037126, 3149600, 15289390, 322482, 4419610]\n",
       "Categories (65142, int64): [17367247, 18819033, 16938231, 877052, ..., 17782524, 6157598, 3559295, 5810675]"
      ]
     },
     "execution_count": 117,
     "metadata": {},
     "output_type": "execute_result"
    }
   ],
   "source": [
    "#Clientes de train set\n",
    "df_cltes[\"User ID\"].unique()[:10]"
   ]
  },
  {
   "cell_type": "code",
   "execution_count": 130,
   "metadata": {},
   "outputs": [
    {
     "name": "stdin",
     "output_type": "stream",
     "text": [
      "Ingrese el número de cliente a evaluar: 322482\n"
     ]
    },
    {
     "name": "stdout",
     "output_type": "stream",
     "text": [
      "Los 3 clientes más similares son:\n"
     ]
    },
    {
     "data": {
      "text/plain": [
       "[11885491, 21655671, 1599640]"
      ]
     },
     "execution_count": 130,
     "metadata": {},
     "output_type": "execute_result"
    }
   ],
   "source": [
    "sim_users_code() #322482"
   ]
  },
  {
   "cell_type": "code",
   "execution_count": 131,
   "metadata": {},
   "outputs": [
    {
     "name": "stdin",
     "output_type": "stream",
     "text": [
      "Ingrese el número de cliente a evaluar: 11885491\n"
     ]
    },
    {
     "name": "stdout",
     "output_type": "stream",
     "text": [
      "Los 3 clientes más similares son:\n"
     ]
    },
    {
     "data": {
      "text/plain": [
       "[21655671, 14264240, 6171766]"
      ]
     },
     "execution_count": 131,
     "metadata": {},
     "output_type": "execute_result"
    }
   ],
   "source": [
    "sim_users_code() #17766784"
   ]
  },
  {
   "cell_type": "code",
   "execution_count": 132,
   "metadata": {},
   "outputs": [
    {
     "name": "stdin",
     "output_type": "stream",
     "text": [
      "Ingrese número de ciente: 322482\n"
     ]
    },
    {
     "data": {
      "text/html": [
       "<div>\n",
       "<style scoped>\n",
       "    .dataframe tbody tr th:only-of-type {\n",
       "        vertical-align: middle;\n",
       "    }\n",
       "\n",
       "    .dataframe tbody tr th {\n",
       "        vertical-align: top;\n",
       "    }\n",
       "\n",
       "    .dataframe thead th {\n",
       "        text-align: right;\n",
       "    }\n",
       "</style>\n",
       "<table border=\"1\" class=\"dataframe\">\n",
       "  <thead>\n",
       "    <tr style=\"text-align: right;\">\n",
       "      <th></th>\n",
       "      <th>Order_ID</th>\n",
       "      <th>Ordered_Quantity</th>\n",
       "      <th>SKU_ID_CODE</th>\n",
       "    </tr>\n",
       "    <tr>\n",
       "      <th>Product_Name</th>\n",
       "      <th></th>\n",
       "      <th></th>\n",
       "      <th></th>\n",
       "    </tr>\n",
       "  </thead>\n",
       "  <tbody>\n",
       "    <tr>\n",
       "      <th>Bebida isotónica Gatorade manzana 750 cc.</th>\n",
       "      <td>227424882</td>\n",
       "      <td>3</td>\n",
       "      <td>876</td>\n",
       "    </tr>\n",
       "    <tr>\n",
       "      <th>Café Instántaneo Arlistán Suave 170 G.</th>\n",
       "      <td>227424882</td>\n",
       "      <td>1</td>\n",
       "      <td>995</td>\n",
       "    </tr>\n",
       "    <tr>\n",
       "      <th>Galletitas Pepas Terepín 400 G.</th>\n",
       "      <td>227424882</td>\n",
       "      <td>1</td>\n",
       "      <td>314</td>\n",
       "    </tr>\n",
       "    <tr>\n",
       "      <th>Papel Higiénico Hoja Simple Elegante 4 X 30 M.</th>\n",
       "      <td>227424882</td>\n",
       "      <td>1</td>\n",
       "      <td>56</td>\n",
       "    </tr>\n",
       "    <tr>\n",
       "      <th>Pasta dental Colgate triple acción 90 g.</th>\n",
       "      <td>227424882</td>\n",
       "      <td>1</td>\n",
       "      <td>16</td>\n",
       "    </tr>\n",
       "    <tr>\n",
       "      <th>Yerba Mate Unión Suave 1 Kg.</th>\n",
       "      <td>227424882</td>\n",
       "      <td>1</td>\n",
       "      <td>253</td>\n",
       "    </tr>\n",
       "  </tbody>\n",
       "</table>\n",
       "</div>"
      ],
      "text/plain": [
       "                                                 Order_ID  Ordered_Quantity  \\\n",
       "Product_Name                                                                  \n",
       "Bebida isotónica Gatorade manzana 750 cc.       227424882                 3   \n",
       "Café Instántaneo Arlistán Suave 170 G.          227424882                 1   \n",
       "Galletitas Pepas Terepín 400 G.                 227424882                 1   \n",
       "Papel Higiénico Hoja Simple Elegante 4 X 30 M.  227424882                 1   \n",
       "Pasta dental Colgate triple acción 90 g.        227424882                 1   \n",
       "Yerba Mate Unión Suave 1 Kg.                    227424882                 1   \n",
       "\n",
       "                                                SKU_ID_CODE  \n",
       "Product_Name                                                 \n",
       "Bebida isotónica Gatorade manzana 750 cc.               876  \n",
       "Café Instántaneo Arlistán Suave 170 G.                  995  \n",
       "Galletitas Pepas Terepín 400 G.                         314  \n",
       "Papel Higiénico Hoja Simple Elegante 4 X 30 M.           56  \n",
       "Pasta dental Colgate triple acción 90 g.                 16  \n",
       "Yerba Mate Unión Suave 1 Kg.                            253  "
      ]
     },
     "execution_count": 132,
     "metadata": {},
     "output_type": "execute_result"
    }
   ],
   "source": [
    "get_customer_purch().sort_values(\"Ordered_Quantity\", ascending=False)[:8]"
   ]
  },
  {
   "cell_type": "code",
   "execution_count": 133,
   "metadata": {},
   "outputs": [
    {
     "name": "stdin",
     "output_type": "stream",
     "text": [
      "Ingrese número de ciente: 11885491\n"
     ]
    },
    {
     "data": {
      "text/html": [
       "<div>\n",
       "<style scoped>\n",
       "    .dataframe tbody tr th:only-of-type {\n",
       "        vertical-align: middle;\n",
       "    }\n",
       "\n",
       "    .dataframe tbody tr th {\n",
       "        vertical-align: top;\n",
       "    }\n",
       "\n",
       "    .dataframe thead th {\n",
       "        text-align: right;\n",
       "    }\n",
       "</style>\n",
       "<table border=\"1\" class=\"dataframe\">\n",
       "  <thead>\n",
       "    <tr style=\"text-align: right;\">\n",
       "      <th></th>\n",
       "      <th>Order_ID</th>\n",
       "      <th>Ordered_Quantity</th>\n",
       "      <th>SKU_ID_CODE</th>\n",
       "    </tr>\n",
       "    <tr>\n",
       "      <th>Product_Name</th>\n",
       "      <th></th>\n",
       "      <th></th>\n",
       "      <th></th>\n",
       "    </tr>\n",
       "  </thead>\n",
       "  <tbody>\n",
       "    <tr>\n",
       "      <th>Bebida isotónica Gatorade manzana 750 cc.</th>\n",
       "      <td>241744690</td>\n",
       "      <td>1</td>\n",
       "      <td>876</td>\n",
       "    </tr>\n",
       "    <tr>\n",
       "      <th>Gaseosa Sprite lima limón 2.25 l.</th>\n",
       "      <td>241744690</td>\n",
       "      <td>1</td>\n",
       "      <td>209</td>\n",
       "    </tr>\n",
       "    <tr>\n",
       "      <th>Papel Higiénico Hoja Simple Elegante 4 X 30 M.</th>\n",
       "      <td>241744690</td>\n",
       "      <td>1</td>\n",
       "      <td>56</td>\n",
       "    </tr>\n",
       "  </tbody>\n",
       "</table>\n",
       "</div>"
      ],
      "text/plain": [
       "                                                 Order_ID  Ordered_Quantity  \\\n",
       "Product_Name                                                                  \n",
       "Bebida isotónica Gatorade manzana 750 cc.       241744690                 1   \n",
       "Gaseosa Sprite lima limón 2.25 l.               241744690                 1   \n",
       "Papel Higiénico Hoja Simple Elegante 4 X 30 M.  241744690                 1   \n",
       "\n",
       "                                                SKU_ID_CODE  \n",
       "Product_Name                                                 \n",
       "Bebida isotónica Gatorade manzana 750 cc.               876  \n",
       "Gaseosa Sprite lima limón 2.25 l.                       209  \n",
       "Papel Higiénico Hoja Simple Elegante 4 X 30 M.           56  "
      ]
     },
     "execution_count": 133,
     "metadata": {},
     "output_type": "execute_result"
    }
   ],
   "source": [
    "get_customer_purch().sort_values(\"Ordered_Quantity\", ascending=False)[:8]"
   ]
  },
  {
   "cell_type": "code",
   "execution_count": 136,
   "metadata": {},
   "outputs": [
    {
     "name": "stdin",
     "output_type": "stream",
     "text": [
      "Elija el nro de cliente: 322482\n",
      "Elija la cantidad de sugerencias: 10\n"
     ]
    },
    {
     "name": "stdout",
     "output_type": "stream",
     "text": [
      "_______________\n",
      "Para el cliente especificado se encontraron los siguientes 10 productos recomendados:\n",
      "\n",
      "Bebida Energizante Monster Energy 473 Cc.  con un  12.53 %  de probable aceptación.\n",
      "Bebida Energetica Red Bull Lata 250 ml  con un  10.91 %  de probable aceptación.\n",
      "Bebida Energizante Monster Mango Loco 473 Cc.  con un  9.57 %  de probable aceptación.\n",
      "Galletitas Crackers Mediatarde 3 X 110 G.  con un  8.4 %  de probable aceptación.\n",
      "Galletitas Crackers Criollitas Original 3 X 100 G.  con un  8.33 %  de probable aceptación.\n",
      "Bebida energizante Monster energy ultra 473 cc.  con un  7.79 %  de probable aceptación.\n",
      "Azúcar Ledesma Clásica 1 Kg.  con un  7.34 %  de probable aceptación.\n",
      "Agua Mineral Sin Gas Eco De Los Andes 2 L.  con un  7.1 %  de probable aceptación.\n",
      "Gaseosa Coca Cola 1.5 L.  con un  7.08 %  de probable aceptación.\n",
      "Alfajor Bon O Bon 40 G.  con un  6.93 %  de probable aceptación.\n"
     ]
    }
   ],
   "source": [
    "recommend()"
   ]
  },
  {
   "cell_type": "code",
   "execution_count": 267,
   "metadata": {},
   "outputs": [
    {
     "name": "stdin",
     "output_type": "stream",
     "text": [
      "Ingrese el número de cliente a evaluar: 4419610\n"
     ]
    },
    {
     "name": "stdout",
     "output_type": "stream",
     "text": [
      "Los 3 clientes más similares son:\n"
     ]
    },
    {
     "data": {
      "text/plain": [
       "[19569454, 24962232, 22223104]"
      ]
     },
     "execution_count": 267,
     "metadata": {},
     "output_type": "execute_result"
    }
   ],
   "source": [
    "sim_users_code()"
   ]
  },
  {
   "cell_type": "code",
   "execution_count": 268,
   "metadata": {},
   "outputs": [
    {
     "name": "stdin",
     "output_type": "stream",
     "text": [
      "Ingrese número de ciente: 4419610\n"
     ]
    },
    {
     "data": {
      "text/html": [
       "<div>\n",
       "<style scoped>\n",
       "    .dataframe tbody tr th:only-of-type {\n",
       "        vertical-align: middle;\n",
       "    }\n",
       "\n",
       "    .dataframe tbody tr th {\n",
       "        vertical-align: top;\n",
       "    }\n",
       "\n",
       "    .dataframe thead th {\n",
       "        text-align: right;\n",
       "    }\n",
       "</style>\n",
       "<table border=\"1\" class=\"dataframe\">\n",
       "  <thead>\n",
       "    <tr style=\"text-align: right;\">\n",
       "      <th></th>\n",
       "      <th>Order_ID</th>\n",
       "      <th>Ordered_Quantity</th>\n",
       "      <th>SKU_ID_CODE</th>\n",
       "    </tr>\n",
       "    <tr>\n",
       "      <th>Product_Name</th>\n",
       "      <th></th>\n",
       "      <th></th>\n",
       "      <th></th>\n",
       "    </tr>\n",
       "  </thead>\n",
       "  <tbody>\n",
       "    <tr>\n",
       "      <th>Jamón Cocido Natural Feteado Bocatti 130 G.</th>\n",
       "      <td>2703823633</td>\n",
       "      <td>11</td>\n",
       "      <td>13233</td>\n",
       "    </tr>\n",
       "    <tr>\n",
       "      <th>Jugo Citric Naranja Con Pulpa 1 L.</th>\n",
       "      <td>1286275298</td>\n",
       "      <td>9</td>\n",
       "      <td>5995</td>\n",
       "    </tr>\n",
       "    <tr>\n",
       "      <th>Salame Fuet Bocatti Picado Fino 130 G.</th>\n",
       "      <td>1455396913</td>\n",
       "      <td>7</td>\n",
       "      <td>7236</td>\n",
       "    </tr>\n",
       "    <tr>\n",
       "      <th>Cerveza rubia Sol 473 cc.</th>\n",
       "      <td>262069895</td>\n",
       "      <td>5</td>\n",
       "      <td>1083</td>\n",
       "    </tr>\n",
       "    <tr>\n",
       "      <th>Queso Cremoso Tregar Unidad Aprox. 450Grs.</th>\n",
       "      <td>1226575362</td>\n",
       "      <td>5</td>\n",
       "      <td>5900</td>\n",
       "    </tr>\n",
       "    <tr>\n",
       "      <th>Crema De Leche Milkaut 360 Cc.</th>\n",
       "      <td>698918999</td>\n",
       "      <td>5</td>\n",
       "      <td>2475</td>\n",
       "    </tr>\n",
       "    <tr>\n",
       "      <th>Queso Holanda Tregar Unidad Aprox. 300Grs</th>\n",
       "      <td>995975232</td>\n",
       "      <td>5</td>\n",
       "      <td>4732</td>\n",
       "    </tr>\n",
       "    <tr>\n",
       "      <th>Gaseosa Coca Cola 2.25 l.</th>\n",
       "      <td>726633522</td>\n",
       "      <td>4</td>\n",
       "      <td>21</td>\n",
       "    </tr>\n",
       "  </tbody>\n",
       "</table>\n",
       "</div>"
      ],
      "text/plain": [
       "                                               Order_ID  Ordered_Quantity  \\\n",
       "Product_Name                                                                \n",
       "Jamón Cocido Natural Feteado Bocatti 130 G.  2703823633                11   \n",
       "Jugo Citric Naranja Con Pulpa 1 L.           1286275298                 9   \n",
       "Salame Fuet Bocatti Picado Fino 130 G.       1455396913                 7   \n",
       "Cerveza rubia Sol 473 cc.                     262069895                 5   \n",
       "Queso Cremoso Tregar Unidad Aprox. 450Grs.   1226575362                 5   \n",
       "Crema De Leche Milkaut 360 Cc.                698918999                 5   \n",
       "Queso Holanda Tregar Unidad Aprox. 300Grs     995975232                 5   \n",
       "Gaseosa Coca Cola 2.25 l.                     726633522                 4   \n",
       "\n",
       "                                             SKU_ID_CODE  \n",
       "Product_Name                                              \n",
       "Jamón Cocido Natural Feteado Bocatti 130 G.        13233  \n",
       "Jugo Citric Naranja Con Pulpa 1 L.                  5995  \n",
       "Salame Fuet Bocatti Picado Fino 130 G.              7236  \n",
       "Cerveza rubia Sol 473 cc.                           1083  \n",
       "Queso Cremoso Tregar Unidad Aprox. 450Grs.          5900  \n",
       "Crema De Leche Milkaut 360 Cc.                      2475  \n",
       "Queso Holanda Tregar Unidad Aprox. 300Grs           4732  \n",
       "Gaseosa Coca Cola 2.25 l.                             21  "
      ]
     },
     "execution_count": 268,
     "metadata": {},
     "output_type": "execute_result"
    }
   ],
   "source": [
    "get_customer_purch().sort_values(\"Ordered_Quantity\", ascending=False)[:8]"
   ]
  },
  {
   "cell_type": "code",
   "execution_count": 269,
   "metadata": {},
   "outputs": [
    {
     "name": "stdin",
     "output_type": "stream",
     "text": [
      "Ingrese número de ciente: 19569454\n"
     ]
    },
    {
     "data": {
      "text/html": [
       "<div>\n",
       "<style scoped>\n",
       "    .dataframe tbody tr th:only-of-type {\n",
       "        vertical-align: middle;\n",
       "    }\n",
       "\n",
       "    .dataframe tbody tr th {\n",
       "        vertical-align: top;\n",
       "    }\n",
       "\n",
       "    .dataframe thead th {\n",
       "        text-align: right;\n",
       "    }\n",
       "</style>\n",
       "<table border=\"1\" class=\"dataframe\">\n",
       "  <thead>\n",
       "    <tr style=\"text-align: right;\">\n",
       "      <th></th>\n",
       "      <th>Order_ID</th>\n",
       "      <th>Ordered_Quantity</th>\n",
       "      <th>SKU_ID_CODE</th>\n",
       "    </tr>\n",
       "    <tr>\n",
       "      <th>Product_Name</th>\n",
       "      <th></th>\n",
       "      <th></th>\n",
       "      <th></th>\n",
       "    </tr>\n",
       "  </thead>\n",
       "  <tbody>\n",
       "    <tr>\n",
       "      <th>Jamón Cocido Natural Feteado Bocatti 130 G.</th>\n",
       "      <td>714932955</td>\n",
       "      <td>6</td>\n",
       "      <td>3609</td>\n",
       "    </tr>\n",
       "    <tr>\n",
       "      <th>Mozzarella La Serenisima 220gr</th>\n",
       "      <td>469837106</td>\n",
       "      <td>4</td>\n",
       "      <td>774</td>\n",
       "    </tr>\n",
       "    <tr>\n",
       "      <th>Queso Criollo Tregar Unidad Aprox. 320Grs.</th>\n",
       "      <td>714932955</td>\n",
       "      <td>3</td>\n",
       "      <td>3528</td>\n",
       "    </tr>\n",
       "    <tr>\n",
       "      <th>Tapas para empanadas La Salteña 12 u. sin TACC</th>\n",
       "      <td>476416249</td>\n",
       "      <td>3</td>\n",
       "      <td>2762</td>\n",
       "    </tr>\n",
       "    <tr>\n",
       "      <th>Queso Crematto Milkaut 290 G.</th>\n",
       "      <td>231320400</td>\n",
       "      <td>2</td>\n",
       "      <td>822</td>\n",
       "    </tr>\n",
       "    <tr>\n",
       "      <th>Bizcochos De Arroz Gallo Snacks Dulces 100 G.</th>\n",
       "      <td>462934667</td>\n",
       "      <td>2</td>\n",
       "      <td>568</td>\n",
       "    </tr>\n",
       "    <tr>\n",
       "      <th>Cerveza rubia Amstel 473 cc.</th>\n",
       "      <td>231614267</td>\n",
       "      <td>2</td>\n",
       "      <td>630</td>\n",
       "    </tr>\n",
       "    <tr>\n",
       "      <th>Toalla Higienica Normal Con A Seca Always X 8 Cu</th>\n",
       "      <td>231614267</td>\n",
       "      <td>2</td>\n",
       "      <td>1762</td>\n",
       "    </tr>\n",
       "  </tbody>\n",
       "</table>\n",
       "</div>"
      ],
      "text/plain": [
       "                                                   Order_ID  Ordered_Quantity  \\\n",
       "Product_Name                                                                    \n",
       "Jamón Cocido Natural Feteado Bocatti 130 G.       714932955                 6   \n",
       "Mozzarella La Serenisima 220gr                    469837106                 4   \n",
       "Queso Criollo Tregar Unidad Aprox. 320Grs.        714932955                 3   \n",
       "Tapas para empanadas La Salteña 12 u. sin TACC    476416249                 3   \n",
       "Queso Crematto Milkaut 290 G.                     231320400                 2   \n",
       "Bizcochos De Arroz Gallo Snacks Dulces 100 G.     462934667                 2   \n",
       "Cerveza rubia Amstel 473 cc.                      231614267                 2   \n",
       "Toalla Higienica Normal Con A Seca Always X 8 Cu  231614267                 2   \n",
       "\n",
       "                                                  SKU_ID_CODE  \n",
       "Product_Name                                                   \n",
       "Jamón Cocido Natural Feteado Bocatti 130 G.              3609  \n",
       "Mozzarella La Serenisima 220gr                            774  \n",
       "Queso Criollo Tregar Unidad Aprox. 320Grs.               3528  \n",
       "Tapas para empanadas La Salteña 12 u. sin TACC           2762  \n",
       "Queso Crematto Milkaut 290 G.                             822  \n",
       "Bizcochos De Arroz Gallo Snacks Dulces 100 G.             568  \n",
       "Cerveza rubia Amstel 473 cc.                              630  \n",
       "Toalla Higienica Normal Con A Seca Always X 8 Cu         1762  "
      ]
     },
     "execution_count": 269,
     "metadata": {},
     "output_type": "execute_result"
    }
   ],
   "source": [
    "get_customer_purch().sort_values(\"Ordered_Quantity\", ascending=False)[:8]"
   ]
  },
  {
   "cell_type": "markdown",
   "metadata": {},
   "source": [
    "# Validamos con el modelo del paper"
   ]
  },
  {
   "cell_type": "code",
   "execution_count": 271,
   "metadata": {},
   "outputs": [
    {
     "data": {
      "text/plain": [
       "array([17766784,  5472483,  1813466, 25472616, 26514435, 16091522,\n",
       "        3581030,  6337141,  6527116,  4580056,  3777079,  4685492,\n",
       "        5042860,  3552449,  7050854,  5990542,  6619960, 20346744,\n",
       "        4315340, 18719860,  6505868,   456721,  4687696,  5664218,\n",
       "       21140825, 16152298,  1299452,   841007,  2095553, 16208968],\n",
       "      dtype=int64)"
      ]
     },
     "execution_count": 271,
     "metadata": {},
     "output_type": "execute_result"
    }
   ],
   "source": [
    "customers_test_arr = pd.unique(np.array(df_cltes_test[\"User ID\"])) # Array of customer IDs from the ratings matrix\n",
    "customers_test_arr[:30]"
   ]
  },
  {
   "cell_type": "code",
   "execution_count": 272,
   "metadata": {},
   "outputs": [
    {
     "data": {
      "text/html": [
       "<div>\n",
       "<style scoped>\n",
       "    .dataframe tbody tr th:only-of-type {\n",
       "        vertical-align: middle;\n",
       "    }\n",
       "\n",
       "    .dataframe tbody tr th {\n",
       "        vertical-align: top;\n",
       "    }\n",
       "\n",
       "    .dataframe thead th {\n",
       "        text-align: right;\n",
       "    }\n",
       "</style>\n",
       "<table border=\"1\" class=\"dataframe\">\n",
       "  <thead>\n",
       "    <tr style=\"text-align: right;\">\n",
       "      <th></th>\n",
       "      <th>SKU_ID</th>\n",
       "      <th>Product_Name</th>\n",
       "    </tr>\n",
       "  </thead>\n",
       "  <tbody>\n",
       "    <tr>\n",
       "      <th>574</th>\n",
       "      <td>17315055</td>\n",
       "      <td>Barrita de cereal Granix 5 u.</td>\n",
       "    </tr>\n",
       "    <tr>\n",
       "      <th>751</th>\n",
       "      <td>18977602</td>\n",
       "      <td>Dulce batata Arcor 500g</td>\n",
       "    </tr>\n",
       "    <tr>\n",
       "      <th>861</th>\n",
       "      <td>16730478</td>\n",
       "      <td>Queso Danbo Adler En Fetas 144 G.</td>\n",
       "    </tr>\n",
       "    <tr>\n",
       "      <th>1689</th>\n",
       "      <td>18977851</td>\n",
       "      <td>Galletitas Maná Livianas Vainilla 145 G.</td>\n",
       "    </tr>\n",
       "    <tr>\n",
       "      <th>1746</th>\n",
       "      <td>15607212</td>\n",
       "      <td>Café Instantáneo Dolca Suave 170 G.</td>\n",
       "    </tr>\n",
       "    <tr>\n",
       "      <th>1842</th>\n",
       "      <td>18977769</td>\n",
       "      <td>Gomitas Mogul Moras 150 G.</td>\n",
       "    </tr>\n",
       "    <tr>\n",
       "      <th>2010</th>\n",
       "      <td>19643503</td>\n",
       "      <td>Pañal Xxg Pants Pampers X 16 Cu</td>\n",
       "    </tr>\n",
       "    <tr>\n",
       "      <th>2545</th>\n",
       "      <td>16087229</td>\n",
       "      <td>Leche Protein Con Chocolate La Serenisima Pris...</td>\n",
       "    </tr>\n",
       "    <tr>\n",
       "      <th>6643</th>\n",
       "      <td>15527702</td>\n",
       "      <td>Café Instantáneo Dolca 170 G.</td>\n",
       "    </tr>\n",
       "    <tr>\n",
       "      <th>10483</th>\n",
       "      <td>15527701</td>\n",
       "      <td>Puré De Papas Instantáneo Maggi 125 G.</td>\n",
       "    </tr>\n",
       "  </tbody>\n",
       "</table>\n",
       "</div>"
      ],
      "text/plain": [
       "         SKU_ID                                       Product_Name\n",
       "574    17315055                      Barrita de cereal Granix 5 u.\n",
       "751    18977602                            Dulce batata Arcor 500g\n",
       "861    16730478                  Queso Danbo Adler En Fetas 144 G.\n",
       "1689   18977851           Galletitas Maná Livianas Vainilla 145 G.\n",
       "1746   15607212                Café Instantáneo Dolca Suave 170 G.\n",
       "1842   18977769                         Gomitas Mogul Moras 150 G.\n",
       "2010   19643503                    Pañal Xxg Pants Pampers X 16 Cu\n",
       "2545   16087229  Leche Protein Con Chocolate La Serenisima Pris...\n",
       "6643   15527702                      Café Instantáneo Dolca 170 G.\n",
       "10483  15527701             Puré De Papas Instantáneo Maggi 125 G."
      ]
     },
     "execution_count": 272,
     "metadata": {},
     "output_type": "execute_result"
    }
   ],
   "source": [
    "get_items_purchased(16999, product_train, customers_arr, products_arr, item_lookup)[:10] #61726, 806441, 190021, 1414"
   ]
  },
  {
   "cell_type": "code",
   "execution_count": 285,
   "metadata": {},
   "outputs": [
    {
     "data": {
      "text/html": [
       "<div>\n",
       "<style scoped>\n",
       "    .dataframe tbody tr th:only-of-type {\n",
       "        vertical-align: middle;\n",
       "    }\n",
       "\n",
       "    .dataframe tbody tr th {\n",
       "        vertical-align: top;\n",
       "    }\n",
       "\n",
       "    .dataframe thead th {\n",
       "        text-align: right;\n",
       "    }\n",
       "</style>\n",
       "<table border=\"1\" class=\"dataframe\">\n",
       "  <thead>\n",
       "    <tr style=\"text-align: right;\">\n",
       "      <th></th>\n",
       "      <th>StockCode</th>\n",
       "      <th>Description</th>\n",
       "    </tr>\n",
       "  </thead>\n",
       "  <tbody>\n",
       "    <tr>\n",
       "      <th>0</th>\n",
       "      <td>24619361</td>\n",
       "      <td>Gaseosa Coca Cola 1.5 L.</td>\n",
       "    </tr>\n",
       "    <tr>\n",
       "      <th>1</th>\n",
       "      <td>15527724</td>\n",
       "      <td>Cepillo Dental Colgate Triple Acción 2 U.</td>\n",
       "    </tr>\n",
       "    <tr>\n",
       "      <th>2</th>\n",
       "      <td>17849066</td>\n",
       "      <td>Toallitas Húmedas Antibacteriales Espadol Dett...</td>\n",
       "    </tr>\n",
       "    <tr>\n",
       "      <th>3</th>\n",
       "      <td>15791705</td>\n",
       "      <td>Agua saborizada Aquarius pomelo 1.5 l.</td>\n",
       "    </tr>\n",
       "    <tr>\n",
       "      <th>4</th>\n",
       "      <td>21432884</td>\n",
       "      <td>Crema Dental Noc 10 Concentrada 70 G.</td>\n",
       "    </tr>\n",
       "  </tbody>\n",
       "</table>\n",
       "</div>"
      ],
      "text/plain": [
       "   StockCode                                        Description\n",
       "0   24619361                           Gaseosa Coca Cola 1.5 L.\n",
       "1   15527724          Cepillo Dental Colgate Triple Acción 2 U.\n",
       "2   17849066  Toallitas Húmedas Antibacteriales Espadol Dett...\n",
       "3   15791705             Agua saborizada Aquarius pomelo 1.5 l.\n",
       "4   21432884              Crema Dental Noc 10 Concentrada 70 G."
      ]
     },
     "execution_count": 285,
     "metadata": {},
     "output_type": "execute_result"
    }
   ],
   "source": [
    "rec_items(16999, product_train, user_vecs, item_vecs, customers_arr, products_arr, item_lookup,\n",
    "                       num_items = 5)"
   ]
  },
  {
   "cell_type": "code",
   "execution_count": 284,
   "metadata": {},
   "outputs": [
    {
     "data": {
      "text/html": [
       "<div>\n",
       "<style scoped>\n",
       "    .dataframe tbody tr th:only-of-type {\n",
       "        vertical-align: middle;\n",
       "    }\n",
       "\n",
       "    .dataframe tbody tr th {\n",
       "        vertical-align: top;\n",
       "    }\n",
       "\n",
       "    .dataframe thead th {\n",
       "        text-align: right;\n",
       "    }\n",
       "</style>\n",
       "<table border=\"1\" class=\"dataframe\">\n",
       "  <thead>\n",
       "    <tr style=\"text-align: right;\">\n",
       "      <th></th>\n",
       "      <th>SKU_ID</th>\n",
       "      <th>Product_Name</th>\n",
       "    </tr>\n",
       "  </thead>\n",
       "  <tbody>\n",
       "    <tr>\n",
       "      <th>369</th>\n",
       "      <td>16037183</td>\n",
       "      <td>Dulce de Leche Colonial La Serenisima 400gr</td>\n",
       "    </tr>\n",
       "    <tr>\n",
       "      <th>439</th>\n",
       "      <td>16683321</td>\n",
       "      <td>Chocolate Shot Con Maní 35 G.</td>\n",
       "    </tr>\n",
       "    <tr>\n",
       "      <th>482</th>\n",
       "      <td>18977862</td>\n",
       "      <td>Galletitas Crackers Traviata Sandwich 3 X 101 G.</td>\n",
       "    </tr>\n",
       "    <tr>\n",
       "      <th>574</th>\n",
       "      <td>17315055</td>\n",
       "      <td>Barrita de cereal Granix 5 u.</td>\n",
       "    </tr>\n",
       "    <tr>\n",
       "      <th>751</th>\n",
       "      <td>18977602</td>\n",
       "      <td>Dulce batata Arcor 500g</td>\n",
       "    </tr>\n",
       "    <tr>\n",
       "      <th>861</th>\n",
       "      <td>16730478</td>\n",
       "      <td>Queso Danbo Adler En Fetas 144 G.</td>\n",
       "    </tr>\n",
       "    <tr>\n",
       "      <th>1689</th>\n",
       "      <td>18977851</td>\n",
       "      <td>Galletitas Maná Livianas Vainilla 145 G.</td>\n",
       "    </tr>\n",
       "    <tr>\n",
       "      <th>1746</th>\n",
       "      <td>15607212</td>\n",
       "      <td>Café Instantáneo Dolca Suave 170 G.</td>\n",
       "    </tr>\n",
       "    <tr>\n",
       "      <th>1842</th>\n",
       "      <td>18977769</td>\n",
       "      <td>Gomitas Mogul Moras 150 G.</td>\n",
       "    </tr>\n",
       "    <tr>\n",
       "      <th>2010</th>\n",
       "      <td>19643503</td>\n",
       "      <td>Pañal Xxg Pants Pampers X 16 Cu</td>\n",
       "    </tr>\n",
       "  </tbody>\n",
       "</table>\n",
       "</div>"
      ],
      "text/plain": [
       "        SKU_ID                                      Product_Name\n",
       "369   16037183       Dulce de Leche Colonial La Serenisima 400gr\n",
       "439   16683321                     Chocolate Shot Con Maní 35 G.\n",
       "482   18977862  Galletitas Crackers Traviata Sandwich 3 X 101 G.\n",
       "574   17315055                     Barrita de cereal Granix 5 u.\n",
       "751   18977602                           Dulce batata Arcor 500g\n",
       "861   16730478                 Queso Danbo Adler En Fetas 144 G.\n",
       "1689  18977851          Galletitas Maná Livianas Vainilla 145 G.\n",
       "1746  15607212               Café Instantáneo Dolca Suave 170 G.\n",
       "1842  18977769                        Gomitas Mogul Moras 150 G.\n",
       "2010  19643503                   Pañal Xxg Pants Pampers X 16 Cu"
      ]
     },
     "execution_count": 284,
     "metadata": {},
     "output_type": "execute_result"
    }
   ],
   "source": [
    "get_items_purchased(16999, product_test, customers_arr, products_arr, item_lookup)[:10]"
   ]
  },
  {
   "cell_type": "markdown",
   "metadata": {},
   "source": [
    "# Este modelo no parece haber predecido tan bien.."
   ]
  },
  {
   "cell_type": "code",
   "execution_count": null,
   "metadata": {},
   "outputs": [],
   "source": []
  },
  {
   "cell_type": "markdown",
   "metadata": {},
   "source": [
    "## Fuente importante para tener en cuenta a la hora de explicar y detallar: https://jessesw.com/Rec-System/\n",
    "## https://github.com/benfred/implicit"
   ]
  },
  {
   "cell_type": "code",
   "execution_count": null,
   "metadata": {},
   "outputs": [],
   "source": []
  }
 ],
 "metadata": {
  "kernelspec": {
   "display_name": "Python 3",
   "language": "python",
   "name": "python3"
  },
  "language_info": {
   "codemirror_mode": {
    "name": "ipython",
    "version": 3
   },
   "file_extension": ".py",
   "mimetype": "text/x-python",
   "name": "python",
   "nbconvert_exporter": "python",
   "pygments_lexer": "ipython3",
   "version": "3.7.9"
  }
 },
 "nbformat": 4,
 "nbformat_minor": 4
}
